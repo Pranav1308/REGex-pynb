{
  "nbformat": 4,
  "nbformat_minor": 0,
  "metadata": {
    "colab": {
      "name": "python basic.ipynb",
      "provenance": [],
      "collapsed_sections": []
    },
    "kernelspec": {
      "name": "python3",
      "display_name": "Python 3"
    },
    "language_info": {
      "name": "python"
    }
  },
  "cells": [
    {
      "cell_type": "code",
      "metadata": {
        "colab": {
          "base_uri": "https://localhost:8080/"
        },
        "id": "01ymAnYuW5DK",
        "outputId": "2fbb135d-c02d-44ba-d3ab-1579e955d234"
      },
      "source": [
        "5+2\n"
      ],
      "execution_count": null,
      "outputs": [
        {
          "output_type": "execute_result",
          "data": {
            "text/plain": [
              "7"
            ]
          },
          "metadata": {
            "tags": []
          },
          "execution_count": 1
        }
      ]
    },
    {
      "cell_type": "markdown",
      "metadata": {
        "id": "ks3x_Os_X5NK"
      },
      "source": [
        ""
      ]
    },
    {
      "cell_type": "code",
      "metadata": {
        "colab": {
          "base_uri": "https://localhost:8080/"
        },
        "id": "58o02k3PXHeX",
        "outputId": "29784e7d-9189-4149-9cc7-f0f51cca5e20"
      },
      "source": [
        "print(\"pranav\")"
      ],
      "execution_count": null,
      "outputs": [
        {
          "output_type": "stream",
          "text": [
            "pranav\n"
          ],
          "name": "stdout"
        }
      ]
    },
    {
      "cell_type": "code",
      "metadata": {
        "colab": {
          "base_uri": "https://localhost:8080/"
        },
        "id": "3VQF1xxSXZBX",
        "outputId": "dfc206f9-6946-4510-b7ef-b123d5cd93ab"
      },
      "source": [
        "text=\"hello\"\n",
        "print(text)"
      ],
      "execution_count": null,
      "outputs": [
        {
          "output_type": "stream",
          "text": [
            "hello\n"
          ],
          "name": "stdout"
        }
      ]
    },
    {
      "cell_type": "code",
      "metadata": {
        "colab": {
          "base_uri": "https://localhost:8080/"
        },
        "id": "41xy4jAcXm-W",
        "outputId": "ed0e96d4-8faf-47ca-d199-e722134e555c"
      },
      "source": [
        "text=\"pranav is awesome\"\n",
        "print(len(text))"
      ],
      "execution_count": null,
      "outputs": [
        {
          "output_type": "stream",
          "text": [
            "17\n"
          ],
          "name": "stdout"
        }
      ]
    },
    {
      "cell_type": "code",
      "metadata": {
        "colab": {
          "base_uri": "https://localhost:8080/"
        },
        "id": "pqgXsa13YJ8w",
        "outputId": "f5da359c-0ef0-41e7-8a95-743cfe3ffc4d"
      },
      "source": [
        "text=\"sdf dfkslj dfsdf kdjfk\"\n",
        "\n",
        "print(len(text.split(' ')))"
      ],
      "execution_count": null,
      "outputs": [
        {
          "output_type": "stream",
          "text": [
            "4\n"
          ],
          "name": "stdout"
        }
      ]
    },
    {
      "cell_type": "code",
      "metadata": {
        "colab": {
          "base_uri": "https://localhost:8080/"
        },
        "id": "fCTQyjCwYg44",
        "outputId": "41ad35e2-8dbd-430f-c5a2-02a6ce0c981a"
      },
      "source": [
        "for i in range(10):\n",
        "  print(i)"
      ],
      "execution_count": null,
      "outputs": [
        {
          "output_type": "stream",
          "text": [
            "0\n",
            "1\n",
            "2\n",
            "3\n",
            "4\n",
            "5\n",
            "6\n",
            "7\n",
            "8\n",
            "9\n"
          ],
          "name": "stdout"
        }
      ]
    },
    {
      "cell_type": "code",
      "metadata": {
        "colab": {
          "base_uri": "https://localhost:8080/"
        },
        "id": "28jUBW_Rc3OC",
        "outputId": "df3369dd-b4fc-4795-9aa2-d4d70176a0d8"
      },
      "source": [
        "for i in range(1,23,4):\n",
        "  print(i*3)"
      ],
      "execution_count": null,
      "outputs": [
        {
          "output_type": "stream",
          "text": [
            "3\n",
            "15\n",
            "27\n",
            "39\n",
            "51\n",
            "63\n"
          ],
          "name": "stdout"
        }
      ]
    },
    {
      "cell_type": "code",
      "metadata": {
        "colab": {
          "base_uri": "https://localhost:8080/"
        },
        "id": "SSOljViUdJOA",
        "outputId": "c9ecc66d-b220-44dd-fc25-e8af5fb01ea4"
      },
      "source": [
        "my_list=[]\n",
        "for i in range(2,11,2):\n",
        "  print(i)"
      ],
      "execution_count": null,
      "outputs": [
        {
          "output_type": "stream",
          "text": [
            "2\n",
            "4\n",
            "6\n",
            "8\n",
            "10\n"
          ],
          "name": "stdout"
        }
      ]
    },
    {
      "cell_type": "code",
      "metadata": {
        "colab": {
          "base_uri": "https://localhost:8080/"
        },
        "id": "4wyW3tILd1Kp",
        "outputId": "bb81b164-728a-4908-b2d2-41b81925ac19"
      },
      "source": [
        "value=13\n",
        "if ((value==13) & (value>10)):\n",
        "  print (\"true\")"
      ],
      "execution_count": null,
      "outputs": [
        {
          "output_type": "stream",
          "text": [
            "true\n"
          ],
          "name": "stdout"
        }
      ]
    },
    {
      "cell_type": "code",
      "metadata": {
        "colab": {
          "base_uri": "https://localhost:8080/"
        },
        "id": "rVti02mHhr-j",
        "outputId": "589b5e03-e117-4f43-8e88-39546a684650"
      },
      "source": [
        "dict_1 = {1:\"pune\",2:\"nagpur\",3:\"mumbai\"}\n",
        "print(dict_1)"
      ],
      "execution_count": null,
      "outputs": [
        {
          "output_type": "stream",
          "text": [
            "{1: 'pune', 2: 'nagpur', 3: 'mumbai'}\n"
          ],
          "name": "stdout"
        }
      ]
    },
    {
      "cell_type": "code",
      "metadata": {
        "id": "dCcKJuzKjy5R",
        "colab": {
          "base_uri": "https://localhost:8080/"
        },
        "outputId": "04a9d69d-cbae-4e93-bd35-5b580b0e93ff"
      },
      "source": [
        "  A='hi how are you'\n",
        "for x in A:\n",
        "   print(x)\n",
        "   "
      ],
      "execution_count": null,
      "outputs": [
        {
          "output_type": "stream",
          "text": [
            "h\n",
            "i\n",
            " \n",
            "h\n",
            "o\n",
            "w\n",
            " \n",
            "a\n",
            "r\n",
            "e\n",
            " \n",
            "y\n",
            "o\n",
            "u\n"
          ],
          "name": "stdout"
        }
      ]
    },
    {
      "cell_type": "code",
      "metadata": {
        "colab": {
          "base_uri": "https://localhost:8080/"
        },
        "id": "E-RVXVr8YBMi",
        "outputId": "e25a0fc9-72c3-43bc-9efa-02af15b2eac3"
      },
      "source": [
        "d = {\"a\":12,\"b\":34,\"c\":\"pranav\"}\n",
        "print(d)\n",
        "type(d)"
      ],
      "execution_count": null,
      "outputs": [
        {
          "output_type": "stream",
          "text": [
            "{'a': 12, 'b': 34, 'c': 'pranav'}\n"
          ],
          "name": "stdout"
        },
        {
          "output_type": "execute_result",
          "data": {
            "text/plain": [
              "dict"
            ]
          },
          "metadata": {
            "tags": []
          },
          "execution_count": 4
        }
      ]
    },
    {
      "cell_type": "code",
      "metadata": {
        "colab": {
          "base_uri": "https://localhost:8080/"
        },
        "id": "cNhKYsXxYT4J",
        "outputId": "0cf26d38-b3ea-40ad-e8f5-267e43d53ebd"
      },
      "source": [
        "for i in d.items():\n",
        "  print(i)"
      ],
      "execution_count": null,
      "outputs": [
        {
          "output_type": "stream",
          "text": [
            "('a', 12)\n",
            "('b', 34)\n",
            "('c', 'pranav')\n"
          ],
          "name": "stdout"
        }
      ]
    },
    {
      "cell_type": "code",
      "metadata": {
        "id": "wBttJMcSZcci"
      },
      "source": [
        ""
      ],
      "execution_count": null,
      "outputs": []
    },
    {
      "cell_type": "markdown",
      "metadata": {
        "id": "0MExW9poafEZ"
      },
      "source": [
        "# **TUPLE**"
      ]
    },
    {
      "cell_type": "code",
      "metadata": {
        "colab": {
          "base_uri": "https://localhost:8080/"
        },
        "id": "o2JO2EG1ahgR",
        "outputId": "4a7427b2-5d43-409d-b1f5-8e8b30467179"
      },
      "source": [
        "t1 = (1,2,3,4,5)\n",
        "t1\n",
        "type(t1)"
      ],
      "execution_count": null,
      "outputs": [
        {
          "output_type": "execute_result",
          "data": {
            "text/plain": [
              "tuple"
            ]
          },
          "metadata": {
            "tags": []
          },
          "execution_count": 7
        }
      ]
    },
    {
      "cell_type": "code",
      "metadata": {
        "colab": {
          "base_uri": "https://localhost:8080/"
        },
        "id": "sQCy_xLWaqDz",
        "outputId": "d37b8867-41ef-4013-ad6c-abf86dd86910"
      },
      "source": [
        "t1[3]\n",
        "t1[::-1]\n",
        "t1[:-3]"
      ],
      "execution_count": null,
      "outputs": [
        {
          "output_type": "execute_result",
          "data": {
            "text/plain": [
              "(1, 2)"
            ]
          },
          "metadata": {
            "tags": []
          },
          "execution_count": 10
        }
      ]
    },
    {
      "cell_type": "code",
      "metadata": {
        "colab": {
          "base_uri": "https://localhost:8080/"
        },
        "id": "NVtLgs6lavCC",
        "outputId": "b1125fae-49fa-4215-a153-e96406c36248"
      },
      "source": [
        "t1.index(3)"
      ],
      "execution_count": null,
      "outputs": [
        {
          "output_type": "execute_result",
          "data": {
            "text/plain": [
              "2"
            ]
          },
          "metadata": {
            "tags": []
          },
          "execution_count": 11
        }
      ]
    },
    {
      "cell_type": "code",
      "metadata": {
        "colab": {
          "base_uri": "https://localhost:8080/"
        },
        "id": "WH88hFgGbS_D",
        "outputId": "2ac23c6b-4e9b-49b1-e99c-cb544d8ea0cf"
      },
      "source": [
        "t1.count(2)#counts the no of element passed in the paranthesis from the tuple"
      ],
      "execution_count": null,
      "outputs": [
        {
          "output_type": "execute_result",
          "data": {
            "text/plain": [
              "1"
            ]
          },
          "metadata": {
            "tags": []
          },
          "execution_count": 12
        }
      ]
    },
    {
      "cell_type": "markdown",
      "metadata": {
        "id": "F4JYh_f6b-SB"
      },
      "source": [
        "# **SETS**"
      ]
    },
    {
      "cell_type": "code",
      "metadata": {
        "colab": {
          "base_uri": "https://localhost:8080/"
        },
        "id": "KsHoHxOVcAES",
        "outputId": "a2b1895e-2d79-4302-c927-ff646576074b"
      },
      "source": [
        "s1 = set()\n",
        "s1.add(12)\n",
        "s1.add(43)\n",
        "s1.add(54)\n",
        "s1.add(76)\n",
        "print(s1)"
      ],
      "execution_count": null,
      "outputs": [
        {
          "output_type": "stream",
          "text": [
            "{43, 12, 54, 76}\n"
          ],
          "name": "stdout"
        }
      ]
    },
    {
      "cell_type": "code",
      "metadata": {
        "colab": {
          "base_uri": "https://localhost:8080/"
        },
        "id": "oN4z915BcejQ",
        "outputId": "c68684fc-cf8f-4da0-cf36-f425b5bd7260"
      },
      "source": [
        "s1.add(\"pk\")\n",
        "print(s1)#its unordered so it may not be in sequence"
      ],
      "execution_count": null,
      "outputs": [
        {
          "output_type": "stream",
          "text": [
            "{'pk', 43, 12, 76, 54}\n"
          ],
          "name": "stdout"
        }
      ]
    },
    {
      "cell_type": "code",
      "metadata": {
        "colab": {
          "base_uri": "https://localhost:8080/"
        },
        "id": "Q8uqePK-ct25",
        "outputId": "1e57dd7d-1ebd-4057-fc4c-e072f88a020c"
      },
      "source": [
        "s1.add((1,2,3))\n",
        "print(s1)"
      ],
      "execution_count": null,
      "outputs": [
        {
          "output_type": "stream",
          "text": [
            "{'pk', 43, 12, 76, (1, 2, 3), 54}\n"
          ],
          "name": "stdout"
        }
      ]
    },
    {
      "cell_type": "code",
      "metadata": {
        "colab": {
          "base_uri": "https://localhost:8080/"
        },
        "id": "j5IAgUSzgy5I",
        "outputId": "54e402e0-f48d-4bd2-ba94-d530c223e40d"
      },
      "source": [
        "print(1,2,3,   sep = \"    \")"
      ],
      "execution_count": null,
      "outputs": [
        {
          "output_type": "stream",
          "text": [
            "1    2    3\n"
          ],
          "name": "stdout"
        }
      ]
    },
    {
      "cell_type": "code",
      "metadata": {
        "colab": {
          "base_uri": "https://localhost:8080/"
        },
        "id": "0Xi2ne2mg9Pg",
        "outputId": "c4f5e011-7a7a-445d-cbb5-2be848e969c8"
      },
      "source": [
        "a = 1,\n",
        "type(a)"
      ],
      "execution_count": null,
      "outputs": [
        {
          "output_type": "execute_result",
          "data": {
            "text/plain": [
              "tuple"
            ]
          },
          "metadata": {
            "tags": []
          },
          "execution_count": 23
        }
      ]
    },
    {
      "cell_type": "code",
      "metadata": {
        "colab": {
          "base_uri": "https://localhost:8080/"
        },
        "id": "PD9954yhrJv1",
        "outputId": "e6b861ad-58e8-4fb4-d94b-9d52c421bda0"
      },
      "source": [
        "a  = int(input(\"first num: \"))\n",
        "b  = int(input(\"second num: \"))\n",
        "c = input(\"op: \")\n",
        "\n",
        "if c == '+':\n",
        "  print(a+b)\n",
        "elif c == '-':\n",
        "  print(a-b)\n",
        "elif c == '*':\n",
        "  print(a*b)\n",
        "else:\n",
        "  print(\"invalid entry\")\n"
      ],
      "execution_count": null,
      "outputs": [
        {
          "output_type": "stream",
          "text": [
            "first num: 32\n",
            "second num: 34\n",
            "op: +\n",
            "66\n"
          ],
          "name": "stdout"
        }
      ]
    },
    {
      "cell_type": "code",
      "metadata": {
        "colab": {
          "base_uri": "https://localhost:8080/"
        },
        "id": "8mUwWe0qsD7k",
        "outputId": "86b97ffd-55d4-45c4-aa3c-e09b861e4693"
      },
      "source": [
        "for i in range(3):\n",
        "  for j in range(4):\n",
        "    for k in range(2):\n",
        "      print(i,j,k, end = \"   \")\n",
        "    print()\n",
        "  print()"
      ],
      "execution_count": null,
      "outputs": [
        {
          "output_type": "stream",
          "text": [
            "0 0 0   0 0 1   \n",
            "0 1 0   0 1 1   \n",
            "0 2 0   0 2 1   \n",
            "0 3 0   0 3 1   \n",
            "\n",
            "1 0 0   1 0 1   \n",
            "1 1 0   1 1 1   \n",
            "1 2 0   1 2 1   \n",
            "1 3 0   1 3 1   \n",
            "\n",
            "2 0 0   2 0 1   \n",
            "2 1 0   2 1 1   \n",
            "2 2 0   2 2 1   \n",
            "2 3 0   2 3 1   \n",
            "\n"
          ],
          "name": "stdout"
        }
      ]
    },
    {
      "cell_type": "code",
      "metadata": {
        "colab": {
          "base_uri": "https://localhost:8080/"
        },
        "id": "iDQtqEfSs5Qt",
        "outputId": "f6456dac-acc5-4671-8630-ab6e1e3948ab"
      },
      "source": [
        "i = 1\n",
        "while i<= 10 : \n",
        "  if(i%2==0):\n",
        "    print(i, \"is even\")\n",
        "  else:\n",
        "    print(i, \"is odd\")\n",
        "  i += 1"
      ],
      "execution_count": null,
      "outputs": [
        {
          "output_type": "stream",
          "text": [
            "1 is odd\n",
            "2 is even\n",
            "3 is odd\n",
            "4 is even\n",
            "5 is odd\n",
            "6 is even\n",
            "7 is odd\n",
            "8 is even\n",
            "9 is odd\n",
            "10 is even\n"
          ],
          "name": "stdout"
        }
      ]
    },
    {
      "cell_type": "code",
      "metadata": {
        "colab": {
          "base_uri": "https://localhost:8080/"
        },
        "id": "5f1wdJn5yjTD",
        "outputId": "2fb3bd71-f1eb-4891-fb01-dd3cfb93e8c7"
      },
      "source": [
        "num = int(input())\n",
        "flag = False\n",
        "\n",
        "if num > 1:\n",
        "    for i in range(2, num):\n",
        "        if (num % i) == 0:\n",
        "            flag = True\n",
        "            break\n",
        "if flag == True:\n",
        "    print(num, \"is not a prime number\")\n",
        "else:\n",
        "    print(num, \"is a prime number\")"
      ],
      "execution_count": null,
      "outputs": [
        {
          "output_type": "stream",
          "text": [
            "13\n",
            "13 is a prime number\n"
          ],
          "name": "stdout"
        }
      ]
    },
    {
      "cell_type": "markdown",
      "metadata": {
        "id": "Md7UBXbcp8Uu"
      },
      "source": [
        "# **FUNCTION**"
      ]
    },
    {
      "cell_type": "code",
      "metadata": {
        "colab": {
          "base_uri": "https://localhost:8080/"
        },
        "id": "icQpaLdlqDsl",
        "outputId": "01540d02-ff0e-49c2-abdc-446bfc4eff42"
      },
      "source": [
        "def wow():\n",
        "  print(\"hello, how are you!\")\n",
        "\n",
        "wow()"
      ],
      "execution_count": null,
      "outputs": [
        {
          "output_type": "stream",
          "text": [
            "hello, how are you!\n"
          ],
          "name": "stdout"
        }
      ]
    },
    {
      "cell_type": "code",
      "metadata": {
        "colab": {
          "base_uri": "https://localhost:8080/"
        },
        "id": "i6qe4e-n2C27",
        "outputId": "b1aacd1b-1fc9-4e7c-e1a6-0390f4f66b27"
      },
      "source": [
        "def add(num1, num2):\n",
        "  return(num1+num2)\n",
        "a = add(3,4)\n",
        "print(a)"
      ],
      "execution_count": null,
      "outputs": [
        {
          "output_type": "stream",
          "text": [
            "7\n"
          ],
          "name": "stdout"
        }
      ]
    },
    {
      "cell_type": "markdown",
      "metadata": {
        "id": "DmPd6HaU52g7"
      },
      "source": [
        "# **args and kwargs** "
      ]
    },
    {
      "cell_type": "code",
      "metadata": {
        "colab": {
          "base_uri": "https://localhost:8080/"
        },
        "id": "6ThZS-hb57rB",
        "outputId": "89ed24a5-a287-440f-cc3f-464b9ce9d775"
      },
      "source": [
        "def add(*args):\n",
        "  return sum(args)\n",
        "add(1,2)\n",
        "add(1,2,3,4,5)"
      ],
      "execution_count": null,
      "outputs": [
        {
          "output_type": "execute_result",
          "data": {
            "text/plain": [
              "15"
            ]
          },
          "metadata": {
            "tags": []
          },
          "execution_count": 17
        }
      ]
    },
    {
      "cell_type": "code",
      "metadata": {
        "colab": {
          "base_uri": "https://localhost:8080/"
        },
        "id": "u8wU9zq46TLK",
        "outputId": "b06e35c5-7fe8-4c2d-ae1c-007b2bdd886e"
      },
      "source": [
        "def person(**kwargs):\n",
        "  print(kwargs)\n",
        "person(name = \"pk\", age = 13)"
      ],
      "execution_count": null,
      "outputs": [
        {
          "output_type": "stream",
          "text": [
            "{'name': 'pk', 'age': 13}\n"
          ],
          "name": "stdout"
        }
      ]
    },
    {
      "cell_type": "code",
      "metadata": {
        "colab": {
          "base_uri": "https://localhost:8080/"
        },
        "id": "8ycMS-IX8PhL",
        "outputId": "0f358e44-42cb-40c2-cf09-084edd14243b"
      },
      "source": [
        "def details(*marks, **name):\n",
        "  print(marks)\n",
        "  print(name)\n",
        "#note this is only possible if * is given before ** the vice versa is error\n",
        "details(90,90, name= 'pk')\n",
        "details(95,79,96,95,94, name = 'pk', age = 20, hair = \"white\")"
      ],
      "execution_count": null,
      "outputs": [
        {
          "output_type": "stream",
          "text": [
            "(90, 90)\n",
            "{'name': 'pk'}\n",
            "(95, 79, 96, 95, 94)\n",
            "{'name': 'pk', 'age': 20, 'hair': 'white'}\n"
          ],
          "name": "stdout"
        }
      ]
    },
    {
      "cell_type": "code",
      "metadata": {
        "id": "ERAjHOHT8uh4"
      },
      "source": [
        "a = range(1,6,2)\n"
      ],
      "execution_count": null,
      "outputs": []
    },
    {
      "cell_type": "markdown",
      "metadata": {
        "id": "nRnyIjsrtj_n"
      },
      "source": [
        "# **Exception Handling**"
      ]
    },
    {
      "cell_type": "code",
      "metadata": {
        "colab": {
          "base_uri": "https://localhost:8080/",
          "height": 183
        },
        "id": "0Op89lv4toj4",
        "outputId": "44b53f27-5e41-4f66-897b-06640dfde4d7"
      },
      "source": [
        "f = open('xrs.txt')\n",
        "print('hello')"
      ],
      "execution_count": null,
      "outputs": [
        {
          "output_type": "error",
          "ename": "FileNotFoundError",
          "evalue": "ignored",
          "traceback": [
            "\u001b[0;31m---------------------------------------------------------------------------\u001b[0m",
            "\u001b[0;31mFileNotFoundError\u001b[0m                         Traceback (most recent call last)",
            "\u001b[0;32m<ipython-input-1-0a5b2b802800>\u001b[0m in \u001b[0;36m<module>\u001b[0;34m()\u001b[0m\n\u001b[0;32m----> 1\u001b[0;31m \u001b[0mf\u001b[0m \u001b[0;34m=\u001b[0m \u001b[0mopen\u001b[0m\u001b[0;34m(\u001b[0m\u001b[0;34m'xrs.txt'\u001b[0m\u001b[0;34m)\u001b[0m\u001b[0;34m\u001b[0m\u001b[0;34m\u001b[0m\u001b[0m\n\u001b[0m\u001b[1;32m      2\u001b[0m \u001b[0mprint\u001b[0m\u001b[0;34m(\u001b[0m\u001b[0;34m'hello'\u001b[0m\u001b[0;34m)\u001b[0m\u001b[0;34m\u001b[0m\u001b[0;34m\u001b[0m\u001b[0m\n",
            "\u001b[0;31mFileNotFoundError\u001b[0m: [Errno 2] No such file or directory: 'xrs.txt'"
          ]
        }
      ]
    },
    {
      "cell_type": "code",
      "metadata": {
        "colab": {
          "base_uri": "https://localhost:8080/"
        },
        "id": "znQqhT3LuwOB",
        "outputId": "9efb7495-dbc3-4d74-cd8d-f90523593b7e"
      },
      "source": [
        "try:\n",
        "  f = open('pqr.txt')#the except block will only execute if try block gives an error\n",
        "except:\n",
        "  print('hello!')#if the try block doesnt give any error then *all* except block will be skipped.\n",
        "print('cool')#regardless the output of the above 2 conditions \"cool\"  will always be executed"
      ],
      "execution_count": null,
      "outputs": [
        {
          "output_type": "stream",
          "text": [
            "hello!\n",
            "cool\n"
          ],
          "name": "stdout"
        }
      ]
    },
    {
      "cell_type": "code",
      "metadata": {
        "colab": {
          "base_uri": "https://localhost:8080/"
        },
        "id": "-fXADkw5vv8s",
        "outputId": "a955c1cd-303f-4643-b7e8-6d074f081ebb"
      },
      "source": [
        "try:\n",
        "    #f = open('xyz.txt')\n",
        "    # a = b + 10\n",
        "    print('Hahaha')\n",
        "except NameError:\n",
        "    print('variable not defined')\n",
        "except FileNotFoundError:\n",
        "    print('File does not exist')\n",
        "else:\n",
        "    print('I dont know whats wrong , deal with it yourself')#the else block will only run if try block is error free"
      ],
      "execution_count": null,
      "outputs": [
        {
          "output_type": "stream",
          "text": [
            "Hahaha\n",
            "I dont know whats wrong , deal with it yourself\n"
          ],
          "name": "stdout"
        }
      ]
    },
    {
      "cell_type": "code",
      "metadata": {
        "colab": {
          "base_uri": "https://localhost:8080/"
        },
        "id": "93SNA-1pw5qZ",
        "outputId": "05d6c28a-a4e5-4ec4-9b27-9f5d9dbc5f48"
      },
      "source": [
        "try:\n",
        "    #f = open('xyz.txt')\n",
        "    # a = b + 10\n",
        "    print('Hahaha')\n",
        "except NameError:\n",
        "    print('variable not defined')\n",
        "except FileNotFoundError:\n",
        "    print('File does not exist')\n",
        "else:\n",
        "    print('I dont know whats wrong , deal with it yourself')\n",
        "finally:\n",
        "  print('finally block is running')#what ever happens finally block will always execute\n",
        "print('pranav')"
      ],
      "execution_count": null,
      "outputs": [
        {
          "output_type": "stream",
          "text": [
            "Hahaha\n",
            "I dont know whats wrong , deal with it yourself\n",
            "finally block is running\n",
            "pranav\n"
          ],
          "name": "stdout"
        }
      ]
    },
    {
      "cell_type": "code",
      "metadata": {
        "colab": {
          "base_uri": "https://localhost:8080/",
          "height": 201
        },
        "id": "N0Z-PUD2xdw7",
        "outputId": "a9690d04-acaa-40c9-fa98-3f256545b4be"
      },
      "source": [
        "# We can even raise our own exception like this\n",
        "x = 3\n",
        "if x % 2 != 0:\n",
        "    raise Exception('Only even numbers allowed')"
      ],
      "execution_count": null,
      "outputs": [
        {
          "output_type": "error",
          "ename": "Exception",
          "evalue": "ignored",
          "traceback": [
            "\u001b[0;31m---------------------------------------------------------------------------\u001b[0m",
            "\u001b[0;31mException\u001b[0m                                 Traceback (most recent call last)",
            "\u001b[0;32m<ipython-input-13-99eca2a7d317>\u001b[0m in \u001b[0;36m<module>\u001b[0;34m()\u001b[0m\n\u001b[1;32m      2\u001b[0m \u001b[0mx\u001b[0m \u001b[0;34m=\u001b[0m \u001b[0;36m3\u001b[0m\u001b[0;34m\u001b[0m\u001b[0;34m\u001b[0m\u001b[0m\n\u001b[1;32m      3\u001b[0m \u001b[0;32mif\u001b[0m \u001b[0mx\u001b[0m \u001b[0;34m%\u001b[0m \u001b[0;36m2\u001b[0m \u001b[0;34m!=\u001b[0m \u001b[0;36m0\u001b[0m\u001b[0;34m:\u001b[0m\u001b[0;34m\u001b[0m\u001b[0;34m\u001b[0m\u001b[0m\n\u001b[0;32m----> 4\u001b[0;31m     \u001b[0;32mraise\u001b[0m \u001b[0mException\u001b[0m\u001b[0;34m(\u001b[0m\u001b[0;34m'Only even numbers allowed'\u001b[0m\u001b[0;34m)\u001b[0m\u001b[0;34m\u001b[0m\u001b[0;34m\u001b[0m\u001b[0m\n\u001b[0m",
            "\u001b[0;31mException\u001b[0m: Only even numbers allowed"
          ]
        }
      ]
    },
    {
      "cell_type": "markdown",
      "metadata": {
        "id": "-MooO5_yyLVT"
      },
      "source": [
        "# **List Comprehensions**"
      ]
    },
    {
      "cell_type": "code",
      "metadata": {
        "colab": {
          "base_uri": "https://localhost:8080/"
        },
        "id": "EZM_Y-OCyOFq",
        "outputId": "943f3576-16d9-4cd4-92ac-9107848e4cd2"
      },
      "source": [
        "s = 'pranav'\n",
        "l1 = []\n",
        "for i in s:\n",
        "  l1.append(i)\n",
        "l1"
      ],
      "execution_count": null,
      "outputs": [
        {
          "output_type": "execute_result",
          "data": {
            "text/plain": [
              "['p', 'r', 'a', 'n', 'a', 'v']"
            ]
          },
          "metadata": {
            "tags": []
          },
          "execution_count": 17
        }
      ]
    },
    {
      "cell_type": "code",
      "metadata": {
        "colab": {
          "base_uri": "https://localhost:8080/"
        },
        "id": "98sd0udDy0Gp",
        "outputId": "de2984e3-2fc9-42ac-b391-da8980df8ac9"
      },
      "source": [
        "l1 = ['pk' for i in range(4)]\n",
        "l1"
      ],
      "execution_count": null,
      "outputs": [
        {
          "output_type": "execute_result",
          "data": {
            "text/plain": [
              "['pk', 'pk', 'pk', 'pk']"
            ]
          },
          "metadata": {
            "tags": []
          },
          "execution_count": 20
        }
      ]
    },
    {
      "cell_type": "code",
      "metadata": {
        "colab": {
          "base_uri": "https://localhost:8080/"
        },
        "id": "kKgITUCczTsh",
        "outputId": "d22c240a-85ab-46ad-9a28-17517e426b28"
      },
      "source": [
        "l1 = ['zoro' for i in s]\n",
        "l1    # the word zoro got printed 6 times coz the original string s has a length of 6"
      ],
      "execution_count": null,
      "outputs": [
        {
          "output_type": "execute_result",
          "data": {
            "text/plain": [
              "['zoro', 'zoro', 'zoro', 'zoro', 'zoro', 'zoro']"
            ]
          },
          "metadata": {
            "tags": []
          },
          "execution_count": 21
        }
      ]
    },
    {
      "cell_type": "code",
      "metadata": {
        "colab": {
          "base_uri": "https://localhost:8080/"
        },
        "id": "sgJM5AvSzkQT",
        "outputId": "8e7a038d-e7cc-4153-a0ba-12c1bc71ef81"
      },
      "source": [
        "l2 = [2*x for x in range(10)]\n",
        "l2"
      ],
      "execution_count": null,
      "outputs": [
        {
          "output_type": "execute_result",
          "data": {
            "text/plain": [
              "[0, 2, 4, 6, 8, 10, 12, 14, 16, 18]"
            ]
          },
          "metadata": {
            "tags": []
          },
          "execution_count": 23
        }
      ]
    },
    {
      "cell_type": "code",
      "metadata": {
        "colab": {
          "base_uri": "https://localhost:8080/"
        },
        "id": "Prp6v_YX0Par",
        "outputId": "54b81aae-29e1-4bf4-f4b0-af13c4641857"
      },
      "source": [
        "l3 = [[1,2,3] for x in range(10)]\n",
        "l3"
      ],
      "execution_count": null,
      "outputs": [
        {
          "output_type": "execute_result",
          "data": {
            "text/plain": [
              "[[1, 2, 3],\n",
              " [1, 2, 3],\n",
              " [1, 2, 3],\n",
              " [1, 2, 3],\n",
              " [1, 2, 3],\n",
              " [1, 2, 3],\n",
              " [1, 2, 3],\n",
              " [1, 2, 3],\n",
              " [1, 2, 3],\n",
              " [1, 2, 3]]"
            ]
          },
          "metadata": {
            "tags": []
          },
          "execution_count": 24
        }
      ]
    },
    {
      "cell_type": "code",
      "metadata": {
        "colab": {
          "base_uri": "https://localhost:8080/"
        },
        "id": "F0p-YelV0iK7",
        "outputId": "1eeeaf2b-fdc5-45b4-f476-cea123cbeea3"
      },
      "source": [
        "l = ['Hello I am John Wick',\n",
        "    'They Killed my dog',\n",
        "    'So I killed all of them',\n",
        "    'We have the best mentor',\n",
        "    'We will get at least 20lpa package']\n",
        "\n",
        "ls = [s for s in l if len(s) % 2 == 0]\n",
        "ls"
      ],
      "execution_count": null,
      "outputs": [
        {
          "output_type": "execute_result",
          "data": {
            "text/plain": [
              "['Hello I am John Wick',\n",
              " 'They Killed my dog',\n",
              " 'We will get at least 20lpa package']"
            ]
          },
          "metadata": {
            "tags": []
          },
          "execution_count": 25
        }
      ]
    },
    {
      "cell_type": "code",
      "metadata": {
        "colab": {
          "base_uri": "https://localhost:8080/"
        },
        "id": "q6Gz2kOI2bub",
        "outputId": "2eecab3f-7489-4cd4-aac7-c01fc290f6c4"
      },
      "source": [
        "ls = [s.split()[0] for s in l]\n",
        "ls      #print first word of every sentence"
      ],
      "execution_count": null,
      "outputs": [
        {
          "output_type": "execute_result",
          "data": {
            "text/plain": [
              "['Hello', 'They', 'So', 'We', 'We']"
            ]
          },
          "metadata": {
            "tags": []
          },
          "execution_count": 26
        }
      ]
    },
    {
      "cell_type": "code",
      "metadata": {
        "colab": {
          "base_uri": "https://localhost:8080/"
        },
        "id": "ZFp2rdMv2o30",
        "outputId": "76432764-d742-4b2f-f8ab-c575b0e06a40"
      },
      "source": [
        "[s.split()[0] for s in l if len(s.split())%2==0]\n",
        "#print the first word if the sentence contains even number of words"
      ],
      "execution_count": null,
      "outputs": [
        {
          "output_type": "execute_result",
          "data": {
            "text/plain": [
              "['They', 'So']"
            ]
          },
          "metadata": {
            "tags": []
          },
          "execution_count": 27
        }
      ]
    },
    {
      "cell_type": "code",
      "metadata": {
        "colab": {
          "base_uri": "https://localhost:8080/"
        },
        "id": "fSYCY7xZ3fVc",
        "outputId": "17b037e8-83e2-4a39-93e7-d67919767f22"
      },
      "source": [
        "lst = [x ** 2 for x in [x ** 2 for x in range(4)]]\n",
        "lst"
      ],
      "execution_count": null,
      "outputs": [
        {
          "output_type": "execute_result",
          "data": {
            "text/plain": [
              "[0, 1, 16, 81]"
            ]
          },
          "metadata": {
            "tags": []
          },
          "execution_count": 32
        }
      ]
    },
    {
      "cell_type": "code",
      "metadata": {
        "colab": {
          "base_uri": "https://localhost:8080/"
        },
        "id": "jPeCte5F3kct",
        "outputId": "cb1c4e53-548a-4a83-8142-e0cf54aba30b"
      },
      "source": [
        "lst = [x ** 2 for x in [x ** 2 for x in [x ** 2 for x in range(4)]]]\n",
        "lst"
      ],
      "execution_count": null,
      "outputs": [
        {
          "output_type": "execute_result",
          "data": {
            "text/plain": [
              "[0, 1, 256, 6561]"
            ]
          },
          "metadata": {
            "tags": []
          },
          "execution_count": 33
        }
      ]
    },
    {
      "cell_type": "code",
      "metadata": {
        "colab": {
          "base_uri": "https://localhost:8080/"
        },
        "id": "0DBHF-n13nJb",
        "outputId": "fe7317c3-de03-4a19-f507-20069da661d5"
      },
      "source": [
        "lst = [[x for x in range(5)] for x in range (5)]\n",
        "lst"
      ],
      "execution_count": null,
      "outputs": [
        {
          "output_type": "execute_result",
          "data": {
            "text/plain": [
              "[[0, 1, 2, 3, 4],\n",
              " [0, 1, 2, 3, 4],\n",
              " [0, 1, 2, 3, 4],\n",
              " [0, 1, 2, 3, 4],\n",
              " [0, 1, 2, 3, 4]]"
            ]
          },
          "metadata": {
            "tags": []
          },
          "execution_count": 30
        }
      ]
    },
    {
      "cell_type": "markdown",
      "metadata": {
        "id": "hdAEJK4z5Zh0"
      },
      "source": [
        "# **Collections**"
      ]
    },
    {
      "cell_type": "code",
      "metadata": {
        "id": "TAHy1XN55dbd"
      },
      "source": [
        "from collections import Counter"
      ],
      "execution_count": null,
      "outputs": []
    },
    {
      "cell_type": "code",
      "metadata": {
        "colab": {
          "base_uri": "https://localhost:8080/"
        },
        "id": "ojRmkYKD7fZu",
        "outputId": "526be8ee-2910-4297-db96-2383602f6a4c"
      },
      "source": [
        "lst = [1,2,2,2,2,3,3,3,1,2,1,12,3,2,32,1,21,1,223,1]\n",
        "\n",
        "Counter(lst)"
      ],
      "execution_count": null,
      "outputs": [
        {
          "output_type": "execute_result",
          "data": {
            "text/plain": [
              "Counter({1: 6, 2: 6, 3: 4, 12: 1, 21: 1, 32: 1, 223: 1})"
            ]
          },
          "metadata": {
            "tags": []
          },
          "execution_count": 36
        }
      ]
    },
    {
      "cell_type": "code",
      "metadata": {
        "colab": {
          "base_uri": "https://localhost:8080/"
        },
        "id": "5KBmLFEs7ryO",
        "outputId": "5a5508e5-446e-4129-9495-888c2cd5d181"
      },
      "source": [
        "Counter('jdbfhbrybghf')"
      ],
      "execution_count": null,
      "outputs": [
        {
          "output_type": "execute_result",
          "data": {
            "text/plain": [
              "Counter({'b': 3, 'd': 1, 'f': 2, 'g': 1, 'h': 2, 'j': 1, 'r': 1, 'y': 1})"
            ]
          },
          "metadata": {
            "tags": []
          },
          "execution_count": 37
        }
      ]
    },
    {
      "cell_type": "code",
      "metadata": {
        "colab": {
          "base_uri": "https://localhost:8080/"
        },
        "id": "QhwTwvLv7t2L",
        "outputId": "69b80644-7221-4a98-9a69-c7449e492089"
      },
      "source": [
        "s = 'I have to leave sir ,as my lapotop is on very very low battery and no electricity due to constant rain, sorry'\n",
        "c = Counter(s.split())\n",
        "c"
      ],
      "execution_count": null,
      "outputs": [
        {
          "output_type": "execute_result",
          "data": {
            "text/plain": [
              "Counter({',as': 1,\n",
              "         'I': 1,\n",
              "         'and': 1,\n",
              "         'battery': 1,\n",
              "         'constant': 1,\n",
              "         'due': 1,\n",
              "         'electricity': 1,\n",
              "         'have': 1,\n",
              "         'is': 1,\n",
              "         'lapotop': 1,\n",
              "         'leave': 1,\n",
              "         'low': 1,\n",
              "         'my': 1,\n",
              "         'no': 1,\n",
              "         'on': 1,\n",
              "         'rain,': 1,\n",
              "         'sir': 1,\n",
              "         'sorry': 1,\n",
              "         'to': 2,\n",
              "         'very': 2})"
            ]
          },
          "metadata": {
            "tags": []
          },
          "execution_count": 38
        }
      ]
    },
    {
      "cell_type": "code",
      "metadata": {
        "colab": {
          "base_uri": "https://localhost:8080/"
        },
        "id": "B2qgtlMJ7xrt",
        "outputId": "bc5fb6c1-362d-4519-83a4-52e292dcb100"
      },
      "source": [
        "c.most_common(3)#this will show the 3 most commonly occured words in the above sentence"
      ],
      "execution_count": null,
      "outputs": [
        {
          "output_type": "execute_result",
          "data": {
            "text/plain": [
              "[('to', 2), ('very', 2), ('I', 1)]"
            ]
          },
          "metadata": {
            "tags": []
          },
          "execution_count": 39
        }
      ]
    },
    {
      "cell_type": "markdown",
      "metadata": {
        "id": "oJnKy4hP8ASG"
      },
      "source": [
        "# **defaultdict**"
      ]
    },
    {
      "cell_type": "code",
      "metadata": {
        "id": "iFY42PBR8Ep8"
      },
      "source": [
        "from collections import defaultdict"
      ],
      "execution_count": null,
      "outputs": []
    },
    {
      "cell_type": "code",
      "metadata": {
        "id": "D9V5I15W8L79"
      },
      "source": [
        "d = {1 : 'ABC', 2: 'XYZ'}"
      ],
      "execution_count": null,
      "outputs": []
    },
    {
      "cell_type": "code",
      "metadata": {
        "colab": {
          "base_uri": "https://localhost:8080/",
          "height": 35
        },
        "id": "DuGs02NK88Tn",
        "outputId": "755b044a-9272-41f1-f42c-715e5e557ff6"
      },
      "source": [
        "d[2]"
      ],
      "execution_count": null,
      "outputs": [
        {
          "output_type": "execute_result",
          "data": {
            "application/vnd.google.colaboratory.intrinsic+json": {
              "type": "string"
            },
            "text/plain": [
              "'XYZ'"
            ]
          },
          "metadata": {
            "tags": []
          },
          "execution_count": 43
        }
      ]
    },
    {
      "cell_type": "code",
      "metadata": {
        "colab": {
          "base_uri": "https://localhost:8080/",
          "height": 166
        },
        "id": "t-u_vqLi9JKW",
        "outputId": "aee19311-a521-405a-d519-9996ca8a2fed"
      },
      "source": [
        "d[3]"
      ],
      "execution_count": null,
      "outputs": [
        {
          "output_type": "error",
          "ename": "KeyError",
          "evalue": "ignored",
          "traceback": [
            "\u001b[0;31m---------------------------------------------------------------------------\u001b[0m",
            "\u001b[0;31mKeyError\u001b[0m                                  Traceback (most recent call last)",
            "\u001b[0;32m<ipython-input-47-0acadf17a380>\u001b[0m in \u001b[0;36m<module>\u001b[0;34m()\u001b[0m\n\u001b[0;32m----> 1\u001b[0;31m \u001b[0md\u001b[0m\u001b[0;34m[\u001b[0m\u001b[0;36m3\u001b[0m\u001b[0;34m]\u001b[0m\u001b[0;34m\u001b[0m\u001b[0;34m\u001b[0m\u001b[0m\n\u001b[0m",
            "\u001b[0;31mKeyError\u001b[0m: 3"
          ]
        }
      ]
    },
    {
      "cell_type": "code",
      "metadata": {
        "id": "t8aGWP2j89xB"
      },
      "source": [
        "d1 = defaultdict(str)\n",
        "d1[1] = 'ABC'\n",
        "d1[2] = 'PQR'"
      ],
      "execution_count": null,
      "outputs": []
    },
    {
      "cell_type": "code",
      "metadata": {
        "colab": {
          "base_uri": "https://localhost:8080/",
          "height": 35
        },
        "id": "Lvg-LuMD9AdX",
        "outputId": "956b7db8-4811-4f48-fc8a-499b7b35aee8"
      },
      "source": [
        "d1[1]"
      ],
      "execution_count": null,
      "outputs": [
        {
          "output_type": "execute_result",
          "data": {
            "application/vnd.google.colaboratory.intrinsic+json": {
              "type": "string"
            },
            "text/plain": [
              "'ABC'"
            ]
          },
          "metadata": {
            "tags": []
          },
          "execution_count": 45
        }
      ]
    },
    {
      "cell_type": "code",
      "metadata": {
        "colab": {
          "base_uri": "https://localhost:8080/",
          "height": 35
        },
        "id": "af4FfL7q9DiS",
        "outputId": "ee86571f-bbad-4dfd-c2cd-253341052203"
      },
      "source": [
        "d1[3]   #the use of defaultdict as we can see in above we created a normal dict and we gave a \n",
        "#index that is not present and it threw an error but in case of defaultdict it does not throw\n",
        "# error but gives single quotes with nothing inside as we stated the dict type string"
      ],
      "execution_count": null,
      "outputs": [
        {
          "output_type": "execute_result",
          "data": {
            "application/vnd.google.colaboratory.intrinsic+json": {
              "type": "string"
            },
            "text/plain": [
              "''"
            ]
          },
          "metadata": {
            "tags": []
          },
          "execution_count": 46
        }
      ]
    },
    {
      "cell_type": "code",
      "metadata": {
        "id": "jxBGtsFP9hNg"
      },
      "source": [
        "d1 = defaultdict(int)\n",
        "d1[1] = 5\n",
        "d1[2] = 2\n",
        "d1[3] = 'ABC'"
      ],
      "execution_count": null,
      "outputs": []
    },
    {
      "cell_type": "code",
      "metadata": {
        "colab": {
          "base_uri": "https://localhost:8080/"
        },
        "id": "yQRXieBq9you",
        "outputId": "8410a6e7-3bde-4c64-8ace-657a01d4c36b"
      },
      "source": [
        "d1[5] #but if we specify the dict type as int then it shows zero for default if the index is not present in the dict"
      ],
      "execution_count": null,
      "outputs": [
        {
          "output_type": "execute_result",
          "data": {
            "text/plain": [
              "0"
            ]
          },
          "metadata": {
            "tags": []
          },
          "execution_count": 49
        }
      ]
    },
    {
      "cell_type": "markdown",
      "metadata": {
        "id": "FjGEmzKn9-3W"
      },
      "source": [
        "# **ordereddict**"
      ]
    },
    {
      "cell_type": "code",
      "metadata": {
        "id": "uJSfJovn-A3e"
      },
      "source": [
        "from collections import OrderedDict\n",
        "od = OrderedDict()"
      ],
      "execution_count": null,
      "outputs": []
    },
    {
      "cell_type": "code",
      "metadata": {
        "id": "VRJyYnko-LS2"
      },
      "source": [
        "od['a'] = 1\n",
        "od['b'] = 2\n",
        "od['c'] = 3"
      ],
      "execution_count": null,
      "outputs": []
    },
    {
      "cell_type": "code",
      "metadata": {
        "colab": {
          "base_uri": "https://localhost:8080/"
        },
        "id": "pr6sVORB-N5P",
        "outputId": "363d24c6-a1d7-4e47-8c18-29603818a19a"
      },
      "source": [
        "od\n",
        "# as we know that dict are unordered this function allows us to store elements in dict in an ordered fashion"
      ],
      "execution_count": null,
      "outputs": [
        {
          "output_type": "execute_result",
          "data": {
            "text/plain": [
              "OrderedDict([('a', 1), ('b', 2), ('c', 3)])"
            ]
          },
          "metadata": {
            "tags": []
          },
          "execution_count": 52
        }
      ]
    },
    {
      "cell_type": "code",
      "metadata": {
        "colab": {
          "base_uri": "https://localhost:8080/"
        },
        "id": "3FeyGBID-foI",
        "outputId": "7ac44cf4-845b-4396-e5ec-62244a5e46ee"
      },
      "source": [
        "od['a'] = 4\n",
        "od"
      ],
      "execution_count": null,
      "outputs": [
        {
          "output_type": "execute_result",
          "data": {
            "text/plain": [
              "OrderedDict([('a', 4), ('b', 2), ('c', 3)])"
            ]
          },
          "metadata": {
            "tags": []
          },
          "execution_count": 53
        }
      ]
    },
    {
      "cell_type": "markdown",
      "metadata": {
        "id": "RxLDqJny-zHS"
      },
      "source": [
        "# **deque**"
      ]
    },
    {
      "cell_type": "code",
      "metadata": {
        "id": "EE5v9WDf-01A"
      },
      "source": [
        "from collections import deque"
      ],
      "execution_count": null,
      "outputs": []
    },
    {
      "cell_type": "code",
      "metadata": {
        "colab": {
          "base_uri": "https://localhost:8080/"
        },
        "id": "W7lw4QH6-5Bm",
        "outputId": "ffa04e47-80e7-4532-b1b6-c715c0b41641"
      },
      "source": [
        "l = [1,2,3,4,5,6]\n",
        "d = deque(l)\n",
        "d"
      ],
      "execution_count": null,
      "outputs": [
        {
          "output_type": "execute_result",
          "data": {
            "text/plain": [
              "deque([1, 2, 3, 4, 5, 6])"
            ]
          },
          "metadata": {
            "tags": []
          },
          "execution_count": 55
        }
      ]
    },
    {
      "cell_type": "code",
      "metadata": {
        "colab": {
          "base_uri": "https://localhost:8080/"
        },
        "id": "kNmSn3Hr_ukB",
        "outputId": "3cfd1f87-eecc-4924-8311-8d0cf31a74c9"
      },
      "source": [
        "d.append(7)\n",
        "d"
      ],
      "execution_count": null,
      "outputs": [
        {
          "output_type": "execute_result",
          "data": {
            "text/plain": [
              "deque([1, 2, 3, 4, 5, 6, 7])"
            ]
          },
          "metadata": {
            "tags": []
          },
          "execution_count": 56
        }
      ]
    },
    {
      "cell_type": "code",
      "metadata": {
        "colab": {
          "base_uri": "https://localhost:8080/"
        },
        "id": "Xa3CaaMRAFlb",
        "outputId": "5a1364bb-c6e7-44f7-a4cb-be1b6f75ce19"
      },
      "source": [
        "d.appendleft(0)\n",
        "d"
      ],
      "execution_count": null,
      "outputs": [
        {
          "output_type": "execute_result",
          "data": {
            "text/plain": [
              "deque([0, 1, 2, 3, 4, 5, 6, 7])"
            ]
          },
          "metadata": {
            "tags": []
          },
          "execution_count": 57
        }
      ]
    },
    {
      "cell_type": "code",
      "metadata": {
        "colab": {
          "base_uri": "https://localhost:8080/"
        },
        "id": "0ipRAG08AFpf",
        "outputId": "a5e26b70-6b67-4024-c599-2fc6ec5cd4d4"
      },
      "source": [
        "d.pop()\n",
        "d"
      ],
      "execution_count": null,
      "outputs": [
        {
          "output_type": "execute_result",
          "data": {
            "text/plain": [
              "deque([0, 1, 2, 3, 4, 5, 6])"
            ]
          },
          "metadata": {
            "tags": []
          },
          "execution_count": 58
        }
      ]
    },
    {
      "cell_type": "code",
      "metadata": {
        "colab": {
          "base_uri": "https://localhost:8080/"
        },
        "id": "7FBTSyFcAFsF",
        "outputId": "f8733d42-9cdf-4bbf-d1a5-ff1d7929a98c"
      },
      "source": [
        "d.popleft()\n",
        "d"
      ],
      "execution_count": null,
      "outputs": [
        {
          "output_type": "execute_result",
          "data": {
            "text/plain": [
              "deque([2, 3, 4, 5, 6])"
            ]
          },
          "metadata": {
            "tags": []
          },
          "execution_count": 60
        }
      ]
    },
    {
      "cell_type": "code",
      "metadata": {
        "colab": {
          "base_uri": "https://localhost:8080/"
        },
        "id": "c-o-91PzAFuU",
        "outputId": "78fdf981-44b3-4e21-88de-393a63be4af0"
      },
      "source": [
        "d.append(2)\n",
        "d"
      ],
      "execution_count": null,
      "outputs": [
        {
          "output_type": "execute_result",
          "data": {
            "text/plain": [
              "deque([2, 3, 4, 5, 6, 2])"
            ]
          },
          "metadata": {
            "tags": []
          },
          "execution_count": 61
        }
      ]
    },
    {
      "cell_type": "code",
      "metadata": {
        "colab": {
          "base_uri": "https://localhost:8080/"
        },
        "id": "JNNhHXBgAFxJ",
        "outputId": "30e9eefb-f031-4989-afc5-c2d6f1707356"
      },
      "source": [
        "d.count(2)"
      ],
      "execution_count": null,
      "outputs": [
        {
          "output_type": "execute_result",
          "data": {
            "text/plain": [
              "2"
            ]
          },
          "metadata": {
            "tags": []
          },
          "execution_count": 62
        }
      ]
    },
    {
      "cell_type": "markdown",
      "metadata": {
        "id": "rH9Y_c9EAcSv"
      },
      "source": [
        "# **chainmap**"
      ]
    },
    {
      "cell_type": "code",
      "metadata": {
        "id": "I8HZj2kFAgMp"
      },
      "source": [
        "d1 = {'a':1, 'b' : 2}\n",
        "d2 = {'c': 3, 'd': 4}"
      ],
      "execution_count": null,
      "outputs": []
    },
    {
      "cell_type": "code",
      "metadata": {
        "id": "Z45cBfDdApYH"
      },
      "source": [
        "from collections import ChainMap    #used to join dicts\n",
        "cmap = ChainMap(d1,d2)"
      ],
      "execution_count": null,
      "outputs": []
    },
    {
      "cell_type": "code",
      "metadata": {
        "colab": {
          "base_uri": "https://localhost:8080/"
        },
        "id": "kls8KNK1Arkx",
        "outputId": "ff909f01-fc83-47b3-e294-7e7d7e76ad62"
      },
      "source": [
        "cmap.maps"
      ],
      "execution_count": null,
      "outputs": [
        {
          "output_type": "execute_result",
          "data": {
            "text/plain": [
              "[{'a': 1, 'b': 2}, {'c': 3, 'd': 4}]"
            ]
          },
          "metadata": {
            "tags": []
          },
          "execution_count": 65
        }
      ]
    },
    {
      "cell_type": "code",
      "metadata": {
        "id": "q83aITJfA2po"
      },
      "source": [
        "d3 = {'e' : 5, 'f' : 6}\n",
        "cmap = cmap.new_child(d3)"
      ],
      "execution_count": null,
      "outputs": []
    },
    {
      "cell_type": "code",
      "metadata": {
        "colab": {
          "base_uri": "https://localhost:8080/"
        },
        "id": "7VsuGr5vA_Eg",
        "outputId": "34079fcc-5943-44bf-ca85-a815e2202063"
      },
      "source": [
        "cmap.maps"
      ],
      "execution_count": null,
      "outputs": [
        {
          "output_type": "execute_result",
          "data": {
            "text/plain": [
              "[{'e': 5, 'f': 6}, {'a': 1, 'b': 2}, {'c': 3, 'd': 4}]"
            ]
          },
          "metadata": {
            "tags": []
          },
          "execution_count": 67
        }
      ]
    },
    {
      "cell_type": "code",
      "metadata": {
        "colab": {
          "base_uri": "https://localhost:8080/"
        },
        "id": "IgDglcG1BIo1",
        "outputId": "0c94c5da-7d95-480f-a980-4e6075763a93"
      },
      "source": [
        "list(cmap.keys())"
      ],
      "execution_count": null,
      "outputs": [
        {
          "output_type": "execute_result",
          "data": {
            "text/plain": [
              "['c', 'd', 'a', 'b', 'e', 'f']"
            ]
          },
          "metadata": {
            "tags": []
          },
          "execution_count": 71
        }
      ]
    },
    {
      "cell_type": "code",
      "metadata": {
        "colab": {
          "base_uri": "https://localhost:8080/"
        },
        "id": "REubNgYABIq6",
        "outputId": "4a847500-764e-4c42-8158-ef32851d8e88"
      },
      "source": [
        "list(cmap.values())"
      ],
      "execution_count": null,
      "outputs": [
        {
          "output_type": "execute_result",
          "data": {
            "text/plain": [
              "[3, 4, 1, 2, 5, 6]"
            ]
          },
          "metadata": {
            "tags": []
          },
          "execution_count": 72
        }
      ]
    },
    {
      "cell_type": "markdown",
      "metadata": {
        "id": "ULcaAxrrBpUC"
      },
      "source": [
        "# **Map Function**\n",
        "\n",
        ">The map function allows you to \"map\" a function to an iterable object. That is to say you can quickly call the same function to every item in an iterable, such as a list.\n",
        "\n"
      ]
    },
    {
      "cell_type": "code",
      "metadata": {
        "id": "tpXoKdM4Br6U"
      },
      "source": [
        "def square(num): \n",
        "    return num**2"
      ],
      "execution_count": null,
      "outputs": []
    },
    {
      "cell_type": "code",
      "metadata": {
        "colab": {
          "base_uri": "https://localhost:8080/"
        },
        "id": "NVA6MpTmB7EQ",
        "outputId": "cc086361-3e30-44b4-bab3-90dec23d7f67"
      },
      "source": [
        "l1 = [1,2,3,4,5]\n",
        "for i in l1:\n",
        "    print(square(i))"
      ],
      "execution_count": null,
      "outputs": [
        {
          "output_type": "stream",
          "text": [
            "1\n",
            "4\n",
            "9\n",
            "16\n",
            "25\n"
          ],
          "name": "stdout"
        }
      ]
    },
    {
      "cell_type": "code",
      "metadata": {
        "colab": {
          "base_uri": "https://localhost:8080/"
        },
        "id": "uoYmcWmIB9SB",
        "outputId": "211999c8-501b-44af-d132-ee4cff72a982"
      },
      "source": [
        "list(map(square, l1)) #syntax is map(function, iterator) here iterator means, \n",
        "                      #the name of list or dict on which the function is to be runned\n",
        "                      #so with the help of this we can avoid for loop\n"
      ],
      "execution_count": null,
      "outputs": [
        {
          "output_type": "execute_result",
          "data": {
            "text/plain": [
              "[1, 4, 9, 16, 25]"
            ]
          },
          "metadata": {
            "tags": []
          },
          "execution_count": 75
        }
      ]
    },
    {
      "cell_type": "code",
      "metadata": {
        "id": "m1xisdESCdaz"
      },
      "source": [
        "def first_word(s):\n",
        "    return s.split()[0]"
      ],
      "execution_count": null,
      "outputs": []
    },
    {
      "cell_type": "code",
      "metadata": {
        "colab": {
          "base_uri": "https://localhost:8080/"
        },
        "id": "bu2rN5lbCr9E",
        "outputId": "628deb46-6228-4f9a-e8da-adc4c903e8a1"
      },
      "source": [
        "ls = ['John Wick', 'Baba Yaga', ' Gaurav Bhogale']\n",
        "list(map(first_word, ls))"
      ],
      "execution_count": null,
      "outputs": [
        {
          "output_type": "execute_result",
          "data": {
            "text/plain": [
              "['John', 'Baba', 'Gaurav']"
            ]
          },
          "metadata": {
            "tags": []
          },
          "execution_count": 77
        }
      ]
    },
    {
      "cell_type": "markdown",
      "metadata": {
        "id": "LjI1gcLjC6gS"
      },
      "source": [
        "# **Filter Function**\n",
        "\n",
        "> The filter function returns an iterator yielding those items of iterable for which function(item) is true. Meaning you need to filter by a function that returns either True or False. Then passing that into filter (along with your iterable) and you will get back only the results that would return True when passed to the function.\n",
        "\n",
        "\n",
        "\n"
      ]
    },
    {
      "cell_type": "code",
      "metadata": {
        "id": "bV1nOGQyC9B1"
      },
      "source": [
        "def even(num):\n",
        "    return num % 2 == 0"
      ],
      "execution_count": null,
      "outputs": []
    },
    {
      "cell_type": "code",
      "metadata": {
        "colab": {
          "base_uri": "https://localhost:8080/"
        },
        "id": "5OSSlKTfDLG4",
        "outputId": "927e2762-e00a-45c5-eccd-0b5f6a8feadb"
      },
      "source": [
        "l1 = [1,2,3,4,5,6,7,8,9888]\n",
        "\n",
        "list(filter(even,l1))"
      ],
      "execution_count": null,
      "outputs": [
        {
          "output_type": "execute_result",
          "data": {
            "text/plain": [
              "[2, 4, 6, 8, 9888]"
            ]
          },
          "metadata": {
            "tags": []
          },
          "execution_count": 80
        }
      ]
    },
    {
      "cell_type": "code",
      "metadata": {
        "colab": {
          "base_uri": "https://localhost:8080/"
        },
        "id": "vFoQjsQiDdDB",
        "outputId": "3bee290e-e125-4a5e-b33e-30a0ab078ad8"
      },
      "source": [
        "list(map(even, l1))"
      ],
      "execution_count": null,
      "outputs": [
        {
          "output_type": "execute_result",
          "data": {
            "text/plain": [
              "[False, True, False, True, False, True, False, True, True]"
            ]
          },
          "metadata": {
            "tags": []
          },
          "execution_count": 81
        }
      ]
    },
    {
      "cell_type": "code",
      "metadata": {
        "id": "MlylhS9uD18h"
      },
      "source": [
        "def prime(n):\n",
        "    if n==0 or n==1:\n",
        "        return False\n",
        "\n",
        "    else:\n",
        "        for i in range(2,int(n**0.5)+1):\n",
        "            if n%i==0:\n",
        "                return False\n",
        "                break\n",
        "        else:\n",
        "            return True"
      ],
      "execution_count": null,
      "outputs": []
    },
    {
      "cell_type": "code",
      "metadata": {
        "colab": {
          "base_uri": "https://localhost:8080/"
        },
        "id": "pgBGbhdGD2yx",
        "outputId": "1c103a23-c672-4f8f-d50e-ef7afe075127"
      },
      "source": [
        "l = [1,2,3,4,5,6,7,8,9,10,13,18,17]\n",
        "\n",
        "list(filter(prime, l))"
      ],
      "execution_count": null,
      "outputs": [
        {
          "output_type": "execute_result",
          "data": {
            "text/plain": [
              "[2, 3, 5, 7, 13, 17]"
            ]
          },
          "metadata": {
            "tags": []
          },
          "execution_count": 83
        }
      ]
    },
    {
      "cell_type": "code",
      "metadata": {
        "colab": {
          "base_uri": "https://localhost:8080/"
        },
        "id": "4OZfKrqHD7DD",
        "outputId": "aebe59a9-7b50-4390-c275-7a6453d704ac"
      },
      "source": [
        "l = [0,1,2,0,3]\n",
        "list(filter(square,l))  # as any number other than zero is considered as true\n",
        "                        # so only numbers 1,2,3 are printed as only those no.s will have sq other than zero and give output of true "
      ],
      "execution_count": null,
      "outputs": [
        {
          "output_type": "execute_result",
          "data": {
            "text/plain": [
              "[1, 2, 3]"
            ]
          },
          "metadata": {
            "tags": []
          },
          "execution_count": 84
        }
      ]
    },
    {
      "cell_type": "markdown",
      "metadata": {
        "id": "pIIk8bAuFp2_"
      },
      "source": [
        "**zip**"
      ]
    },
    {
      "cell_type": "code",
      "metadata": {
        "id": "pKdEiFt2EhhD"
      },
      "source": [
        "l1 = [1,2,3,4,5]\n",
        "l2 = [3,4,5,6,7]"
      ],
      "execution_count": null,
      "outputs": []
    },
    {
      "cell_type": "code",
      "metadata": {
        "colab": {
          "base_uri": "https://localhost:8080/"
        },
        "id": "E4jf1f1KFo5L",
        "outputId": "3a6c652a-bdb6-45e4-b17d-3d41b67cdaf5"
      },
      "source": [
        "list(zip(l1,l2))"
      ],
      "execution_count": null,
      "outputs": [
        {
          "output_type": "execute_result",
          "data": {
            "text/plain": [
              "[(1, 3), (2, 4), (3, 5), (4, 6), (5, 7)]"
            ]
          },
          "metadata": {
            "tags": []
          },
          "execution_count": 86
        }
      ]
    },
    {
      "cell_type": "code",
      "metadata": {
        "colab": {
          "base_uri": "https://localhost:8080/"
        },
        "id": "75is3mjtFvO7",
        "outputId": "adb0715b-9ae7-4ef6-944f-4b9fc102ebd5"
      },
      "source": [
        "dict(zip(l1,l2))"
      ],
      "execution_count": null,
      "outputs": [
        {
          "output_type": "execute_result",
          "data": {
            "text/plain": [
              "{1: 3, 2: 4, 3: 5, 4: 6, 5: 7}"
            ]
          },
          "metadata": {
            "tags": []
          },
          "execution_count": 87
        }
      ]
    },
    {
      "cell_type": "markdown",
      "metadata": {
        "id": "InvOTGTVF2zi"
      },
      "source": [
        "# **Lambda Expressions**\n",
        "\n",
        "> A lambda function is a small anonymous function.\n",
        "\n",
        "  A lambda function can take any number of arguments, but can only have one expression.\n",
        "\n"
      ]
    },
    {
      "cell_type": "code",
      "metadata": {
        "colab": {
          "base_uri": "https://localhost:8080/"
        },
        "id": "roQ0hVe3F6zG",
        "outputId": "262cccb9-a6af-453a-cbab-c8d1546a391a"
      },
      "source": [
        "a = lambda num : num ** 2\n",
        "\n",
        "a(2)"
      ],
      "execution_count": null,
      "outputs": [
        {
          "output_type": "execute_result",
          "data": {
            "text/plain": [
              "4"
            ]
          },
          "metadata": {
            "tags": []
          },
          "execution_count": 88
        }
      ]
    },
    {
      "cell_type": "code",
      "metadata": {
        "colab": {
          "base_uri": "https://localhost:8080/"
        },
        "id": "SQybCYQyGwEp",
        "outputId": "8abd4843-c759-4dfd-f29a-def529096c67"
      },
      "source": [
        "b = lambda num1, num2, num3 : num1+num2+num3\n",
        "\n",
        "b(1,2,3)"
      ],
      "execution_count": null,
      "outputs": [
        {
          "output_type": "execute_result",
          "data": {
            "text/plain": [
              "6"
            ]
          },
          "metadata": {
            "tags": []
          },
          "execution_count": 89
        }
      ]
    },
    {
      "cell_type": "code",
      "metadata": {
        "colab": {
          "base_uri": "https://localhost:8080/"
        },
        "id": "-OikDUNLG4sz",
        "outputId": "16b90cc1-6972-4a05-ac71-dccff642180a"
      },
      "source": [
        "c = lambda : print('lambda has no name')\n",
        "\n",
        "c()"
      ],
      "execution_count": null,
      "outputs": [
        {
          "output_type": "stream",
          "text": [
            "lambda has no name\n"
          ],
          "name": "stdout"
        }
      ]
    },
    {
      "cell_type": "code",
      "metadata": {
        "colab": {
          "base_uri": "https://localhost:8080/"
        },
        "id": "SGuMO-IJG6LT",
        "outputId": "22a8bbf5-c683-42a3-d464-569561a017b3"
      },
      "source": [
        "d = lambda *nums : sum(nums)  #here we used args\n",
        "d(1,2,3,4,5)"
      ],
      "execution_count": null,
      "outputs": [
        {
          "output_type": "execute_result",
          "data": {
            "text/plain": [
              "15"
            ]
          },
          "metadata": {
            "tags": []
          },
          "execution_count": 91
        }
      ]
    },
    {
      "cell_type": "code",
      "metadata": {
        "colab": {
          "base_uri": "https://localhost:8080/"
        },
        "id": "6tPCOchkHFaH",
        "outputId": "447ae4a4-b26c-4079-fa92-ff5e133fcf4a"
      },
      "source": [
        "l = [1,2,3,4,5,6,7,8,9]\n",
        "list(map(lambda num : num**2, l))"
      ],
      "execution_count": null,
      "outputs": [
        {
          "output_type": "execute_result",
          "data": {
            "text/plain": [
              "[1, 4, 9, 16, 25, 36, 49, 64, 81]"
            ]
          },
          "metadata": {
            "tags": []
          },
          "execution_count": 92
        }
      ]
    },
    {
      "cell_type": "code",
      "metadata": {
        "colab": {
          "base_uri": "https://localhost:8080/"
        },
        "id": "m0hX2cO0HX-b",
        "outputId": "692d9b74-a893-49f1-d422-864da4aa8542"
      },
      "source": [
        "list(filter(lambda num: num % 2 == 0, l))"
      ],
      "execution_count": null,
      "outputs": [
        {
          "output_type": "execute_result",
          "data": {
            "text/plain": [
              "[2, 4, 6, 8]"
            ]
          },
          "metadata": {
            "tags": []
          },
          "execution_count": 93
        }
      ]
    },
    {
      "cell_type": "code",
      "metadata": {
        "colab": {
          "base_uri": "https://localhost:8080/"
        },
        "id": "v5W4cL5_HfDL",
        "outputId": "31379917-ab65-4a46-9f4b-4a59c2f1dd7b"
      },
      "source": [
        "ls = ['Hello i am John wick',\n",
        "     'they killed my dog',\n",
        "     'so i killed all of them']\n",
        "\n",
        "list(map(lambda s : s.split()[0], ls))"
      ],
      "execution_count": null,
      "outputs": [
        {
          "output_type": "execute_result",
          "data": {
            "text/plain": [
              "['Hello', 'they', 'so']"
            ]
          },
          "metadata": {
            "tags": []
          },
          "execution_count": 94
        }
      ]
    },
    {
      "cell_type": "code",
      "metadata": {
        "id": "R26gN_MnHn9E",
        "colab": {
          "base_uri": "https://localhost:8080/"
        },
        "outputId": "c2af8c14-779a-4e97-9302-d331ceb46072"
      },
      "source": [
        "list(filter(lambda s : len(s.split()) % 2 == 0, ls))"
      ],
      "execution_count": null,
      "outputs": [
        {
          "output_type": "execute_result",
          "data": {
            "text/plain": [
              "['they killed my dog', 'so i killed all of them']"
            ]
          },
          "metadata": {
            "tags": []
          },
          "execution_count": 95
        }
      ]
    }
  ]
}
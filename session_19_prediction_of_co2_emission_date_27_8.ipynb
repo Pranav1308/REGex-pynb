{
 "cells": [
  {
   "cell_type": "code",
   "execution_count": 1,
   "id": "3c211adf",
   "metadata": {},
   "outputs": [],
   "source": [
    "import numpy as np\n",
    "import pandas as pd\n",
    "import matplotlib.pyplot as plt\n",
    "import seaborn as sns"
   ]
  },
  {
   "cell_type": "code",
   "execution_count": 2,
   "id": "a2bc1c6d",
   "metadata": {},
   "outputs": [
    {
     "data": {
      "text/html": [
       "<div>\n",
       "<style scoped>\n",
       "    .dataframe tbody tr th:only-of-type {\n",
       "        vertical-align: middle;\n",
       "    }\n",
       "\n",
       "    .dataframe tbody tr th {\n",
       "        vertical-align: top;\n",
       "    }\n",
       "\n",
       "    .dataframe thead th {\n",
       "        text-align: right;\n",
       "    }\n",
       "</style>\n",
       "<table border=\"1\" class=\"dataframe\">\n",
       "  <thead>\n",
       "    <tr style=\"text-align: right;\">\n",
       "      <th></th>\n",
       "      <th>Make</th>\n",
       "      <th>Model</th>\n",
       "      <th>Vehicle Class</th>\n",
       "      <th>Engine Size(L)</th>\n",
       "      <th>Cylinders</th>\n",
       "      <th>Transmission</th>\n",
       "      <th>Fuel Type</th>\n",
       "      <th>Fuel Consumption City (L/100 km)</th>\n",
       "      <th>Fuel Consumption Hwy (L/100 km)</th>\n",
       "      <th>Fuel Consumption Comb (L/100 km)</th>\n",
       "      <th>Fuel Consumption Comb (mpg)</th>\n",
       "      <th>CO2 Emissions(g/km)</th>\n",
       "    </tr>\n",
       "  </thead>\n",
       "  <tbody>\n",
       "    <tr>\n",
       "      <th>0</th>\n",
       "      <td>ACURA</td>\n",
       "      <td>ILX</td>\n",
       "      <td>COMPACT</td>\n",
       "      <td>2.0</td>\n",
       "      <td>4</td>\n",
       "      <td>AS5</td>\n",
       "      <td>Z</td>\n",
       "      <td>9.9</td>\n",
       "      <td>6.7</td>\n",
       "      <td>8.5</td>\n",
       "      <td>33</td>\n",
       "      <td>196</td>\n",
       "    </tr>\n",
       "    <tr>\n",
       "      <th>1</th>\n",
       "      <td>ACURA</td>\n",
       "      <td>ILX</td>\n",
       "      <td>COMPACT</td>\n",
       "      <td>2.4</td>\n",
       "      <td>4</td>\n",
       "      <td>M6</td>\n",
       "      <td>Z</td>\n",
       "      <td>11.2</td>\n",
       "      <td>7.7</td>\n",
       "      <td>9.6</td>\n",
       "      <td>29</td>\n",
       "      <td>221</td>\n",
       "    </tr>\n",
       "    <tr>\n",
       "      <th>2</th>\n",
       "      <td>ACURA</td>\n",
       "      <td>ILX HYBRID</td>\n",
       "      <td>COMPACT</td>\n",
       "      <td>1.5</td>\n",
       "      <td>4</td>\n",
       "      <td>AV7</td>\n",
       "      <td>Z</td>\n",
       "      <td>6.0</td>\n",
       "      <td>5.8</td>\n",
       "      <td>5.9</td>\n",
       "      <td>48</td>\n",
       "      <td>136</td>\n",
       "    </tr>\n",
       "    <tr>\n",
       "      <th>3</th>\n",
       "      <td>ACURA</td>\n",
       "      <td>MDX 4WD</td>\n",
       "      <td>SUV - SMALL</td>\n",
       "      <td>3.5</td>\n",
       "      <td>6</td>\n",
       "      <td>AS6</td>\n",
       "      <td>Z</td>\n",
       "      <td>12.7</td>\n",
       "      <td>9.1</td>\n",
       "      <td>11.1</td>\n",
       "      <td>25</td>\n",
       "      <td>255</td>\n",
       "    </tr>\n",
       "    <tr>\n",
       "      <th>4</th>\n",
       "      <td>ACURA</td>\n",
       "      <td>RDX AWD</td>\n",
       "      <td>SUV - SMALL</td>\n",
       "      <td>3.5</td>\n",
       "      <td>6</td>\n",
       "      <td>AS6</td>\n",
       "      <td>Z</td>\n",
       "      <td>12.1</td>\n",
       "      <td>8.7</td>\n",
       "      <td>10.6</td>\n",
       "      <td>27</td>\n",
       "      <td>244</td>\n",
       "    </tr>\n",
       "  </tbody>\n",
       "</table>\n",
       "</div>"
      ],
      "text/plain": [
       "    Make       Model Vehicle Class  Engine Size(L)  Cylinders Transmission  \\\n",
       "0  ACURA         ILX       COMPACT             2.0          4          AS5   \n",
       "1  ACURA         ILX       COMPACT             2.4          4           M6   \n",
       "2  ACURA  ILX HYBRID       COMPACT             1.5          4          AV7   \n",
       "3  ACURA     MDX 4WD   SUV - SMALL             3.5          6          AS6   \n",
       "4  ACURA     RDX AWD   SUV - SMALL             3.5          6          AS6   \n",
       "\n",
       "  Fuel Type  Fuel Consumption City (L/100 km)  \\\n",
       "0         Z                               9.9   \n",
       "1         Z                              11.2   \n",
       "2         Z                               6.0   \n",
       "3         Z                              12.7   \n",
       "4         Z                              12.1   \n",
       "\n",
       "   Fuel Consumption Hwy (L/100 km)  Fuel Consumption Comb (L/100 km)  \\\n",
       "0                              6.7                               8.5   \n",
       "1                              7.7                               9.6   \n",
       "2                              5.8                               5.9   \n",
       "3                              9.1                              11.1   \n",
       "4                              8.7                              10.6   \n",
       "\n",
       "   Fuel Consumption Comb (mpg)  CO2 Emissions(g/km)  \n",
       "0                           33                  196  \n",
       "1                           29                  221  \n",
       "2                           48                  136  \n",
       "3                           25                  255  \n",
       "4                           27                  244  "
      ]
     },
     "execution_count": 2,
     "metadata": {},
     "output_type": "execute_result"
    }
   ],
   "source": [
    "data = pd.read_csv('CO2_Emissions_Canada.csv')\n",
    "data.head() #here in this data set we are going to predict the co2 emission"
   ]
  },
  {
   "cell_type": "code",
   "execution_count": 3,
   "id": "91f53923",
   "metadata": {},
   "outputs": [
    {
     "data": {
      "text/plain": [
       "(7385, 12)"
      ]
     },
     "execution_count": 3,
     "metadata": {},
     "output_type": "execute_result"
    }
   ],
   "source": [
    "data.shape"
   ]
  },
  {
   "cell_type": "code",
   "execution_count": 4,
   "id": "15770450",
   "metadata": {},
   "outputs": [
    {
     "data": {
      "text/plain": [
       "Index(['Make', 'Model', 'Vehicle Class', 'Engine Size(L)', 'Cylinders',\n",
       "       'Transmission', 'Fuel Type', 'Fuel Consumption City (L/100 km)',\n",
       "       'Fuel Consumption Hwy (L/100 km)', 'Fuel Consumption Comb (L/100 km)',\n",
       "       'Fuel Consumption Comb (mpg)', 'CO2 Emissions(g/km)'],\n",
       "      dtype='object')"
      ]
     },
     "execution_count": 4,
     "metadata": {},
     "output_type": "execute_result"
    }
   ],
   "source": [
    "data.columns"
   ]
  },
  {
   "cell_type": "code",
   "execution_count": 5,
   "id": "5af74523",
   "metadata": {},
   "outputs": [
    {
     "name": "stdout",
     "output_type": "stream",
     "text": [
      "<class 'pandas.core.frame.DataFrame'>\n",
      "RangeIndex: 7385 entries, 0 to 7384\n",
      "Data columns (total 12 columns):\n",
      " #   Column                            Non-Null Count  Dtype  \n",
      "---  ------                            --------------  -----  \n",
      " 0   Make                              7385 non-null   object \n",
      " 1   Model                             7385 non-null   object \n",
      " 2   Vehicle Class                     7385 non-null   object \n",
      " 3   Engine Size(L)                    7385 non-null   float64\n",
      " 4   Cylinders                         7385 non-null   int64  \n",
      " 5   Transmission                      7385 non-null   object \n",
      " 6   Fuel Type                         7385 non-null   object \n",
      " 7   Fuel Consumption City (L/100 km)  7385 non-null   float64\n",
      " 8   Fuel Consumption Hwy (L/100 km)   7385 non-null   float64\n",
      " 9   Fuel Consumption Comb (L/100 km)  7385 non-null   float64\n",
      " 10  Fuel Consumption Comb (mpg)       7385 non-null   int64  \n",
      " 11  CO2 Emissions(g/km)               7385 non-null   int64  \n",
      "dtypes: float64(4), int64(3), object(5)\n",
      "memory usage: 692.5+ KB\n"
     ]
    }
   ],
   "source": [
    "data.info()"
   ]
  },
  {
   "cell_type": "code",
   "execution_count": 6,
   "id": "2b3e0d1b",
   "metadata": {},
   "outputs": [
    {
     "data": {
      "text/plain": [
       "Make                                0\n",
       "Model                               0\n",
       "Vehicle Class                       0\n",
       "Engine Size(L)                      0\n",
       "Cylinders                           0\n",
       "Transmission                        0\n",
       "Fuel Type                           0\n",
       "Fuel Consumption City (L/100 km)    0\n",
       "Fuel Consumption Hwy (L/100 km)     0\n",
       "Fuel Consumption Comb (L/100 km)    0\n",
       "Fuel Consumption Comb (mpg)         0\n",
       "CO2 Emissions(g/km)                 0\n",
       "dtype: int64"
      ]
     },
     "execution_count": 6,
     "metadata": {},
     "output_type": "execute_result"
    }
   ],
   "source": [
    "data.isnull().sum()"
   ]
  },
  {
   "cell_type": "code",
   "execution_count": 8,
   "id": "4847f462",
   "metadata": {},
   "outputs": [
    {
     "data": {
      "text/plain": [
       "1103"
      ]
     },
     "execution_count": 8,
     "metadata": {},
     "output_type": "execute_result"
    }
   ],
   "source": [
    "data.duplicated().sum()"
   ]
  },
  {
   "cell_type": "code",
   "execution_count": 9,
   "id": "fb750483",
   "metadata": {},
   "outputs": [],
   "source": [
    "data.drop_duplicates(inplace = True)"
   ]
  },
  {
   "cell_type": "code",
   "execution_count": 10,
   "id": "6f0d0207",
   "metadata": {},
   "outputs": [
    {
     "data": {
      "text/plain": [
       "Make                                  42\n",
       "Model                               2053\n",
       "Vehicle Class                         16\n",
       "Engine Size(L)                        51\n",
       "Cylinders                              8\n",
       "Transmission                          27\n",
       "Fuel Type                              5\n",
       "Fuel Consumption City (L/100 km)     211\n",
       "Fuel Consumption Hwy (L/100 km)      143\n",
       "Fuel Consumption Comb (L/100 km)     181\n",
       "Fuel Consumption Comb (mpg)           54\n",
       "CO2 Emissions(g/km)                  331\n",
       "dtype: int64"
      ]
     },
     "execution_count": 10,
     "metadata": {},
     "output_type": "execute_result"
    }
   ],
   "source": [
    "data.nunique()"
   ]
  },
  {
   "cell_type": "code",
   "execution_count": 12,
   "id": "43725089",
   "metadata": {},
   "outputs": [
    {
     "data": {
      "text/plain": [
       "array(['Z', 'D', 'X', 'E', 'N'], dtype=object)"
      ]
     },
     "execution_count": 12,
     "metadata": {},
     "output_type": "execute_result"
    }
   ],
   "source": [
    "data['Fuel Type'].unique()"
   ]
  },
  {
   "cell_type": "code",
   "execution_count": 13,
   "id": "601c38fa",
   "metadata": {},
   "outputs": [
    {
     "data": {
      "text/plain": [
       "array(['AS5', 'M6', 'AV7', 'AS6', 'AM6', 'A6', 'AM7', 'AV8', 'AS8', 'A7',\n",
       "       'A8', 'M7', 'A4', 'M5', 'AV', 'A5', 'AS7', 'A9', 'AS9', 'AV6',\n",
       "       'AS4', 'AM5', 'AM8', 'AM9', 'AS10', 'A10', 'AV10'], dtype=object)"
      ]
     },
     "execution_count": 13,
     "metadata": {},
     "output_type": "execute_result"
    }
   ],
   "source": [
    "data['Transmission'].unique()"
   ]
  },
  {
   "cell_type": "code",
   "execution_count": 14,
   "id": "ce1f31e1",
   "metadata": {},
   "outputs": [
    {
     "data": {
      "text/plain": [
       "array(['COMPACT', 'SUV - SMALL', 'MID-SIZE', 'TWO-SEATER', 'MINICOMPACT',\n",
       "       'SUBCOMPACT', 'FULL-SIZE', 'STATION WAGON - SMALL',\n",
       "       'SUV - STANDARD', 'VAN - CARGO', 'VAN - PASSENGER',\n",
       "       'PICKUP TRUCK - STANDARD', 'MINIVAN', 'SPECIAL PURPOSE VEHICLE',\n",
       "       'STATION WAGON - MID-SIZE', 'PICKUP TRUCK - SMALL'], dtype=object)"
      ]
     },
     "execution_count": 14,
     "metadata": {},
     "output_type": "execute_result"
    }
   ],
   "source": [
    "data['Vehicle Class'].unique()"
   ]
  },
  {
   "cell_type": "code",
   "execution_count": 15,
   "id": "9d6ce5a3",
   "metadata": {},
   "outputs": [],
   "source": [
    "#for this data set onehot encoding is\n",
    "#required coz it has none common, duplicate or NA values\n",
    "#and the data set is ready to be converted into numerical values"
   ]
  },
  {
   "cell_type": "code",
   "execution_count": 16,
   "id": "c8c9e6d4",
   "metadata": {
    "scrolled": true
   },
   "outputs": [
    {
     "data": {
      "text/html": [
       "<div>\n",
       "<style scoped>\n",
       "    .dataframe tbody tr th:only-of-type {\n",
       "        vertical-align: middle;\n",
       "    }\n",
       "\n",
       "    .dataframe tbody tr th {\n",
       "        vertical-align: top;\n",
       "    }\n",
       "\n",
       "    .dataframe thead th {\n",
       "        text-align: right;\n",
       "    }\n",
       "</style>\n",
       "<table border=\"1\" class=\"dataframe\">\n",
       "  <thead>\n",
       "    <tr style=\"text-align: right;\">\n",
       "      <th></th>\n",
       "      <th>Engine Size(L)</th>\n",
       "      <th>Cylinders</th>\n",
       "      <th>Fuel Consumption City (L/100 km)</th>\n",
       "      <th>Fuel Consumption Hwy (L/100 km)</th>\n",
       "      <th>Fuel Consumption Comb (L/100 km)</th>\n",
       "      <th>Fuel Consumption Comb (mpg)</th>\n",
       "      <th>CO2 Emissions(g/km)</th>\n",
       "    </tr>\n",
       "  </thead>\n",
       "  <tbody>\n",
       "    <tr>\n",
       "      <th>Engine Size(L)</th>\n",
       "      <td>1.000000</td>\n",
       "      <td>0.928843</td>\n",
       "      <td>0.834228</td>\n",
       "      <td>0.766817</td>\n",
       "      <td>0.820146</td>\n",
       "      <td>-0.762955</td>\n",
       "      <td>0.854802</td>\n",
       "    </tr>\n",
       "    <tr>\n",
       "      <th>Cylinders</th>\n",
       "      <td>0.928843</td>\n",
       "      <td>1.000000</td>\n",
       "      <td>0.801277</td>\n",
       "      <td>0.717647</td>\n",
       "      <td>0.781099</td>\n",
       "      <td>-0.723731</td>\n",
       "      <td>0.834687</td>\n",
       "    </tr>\n",
       "    <tr>\n",
       "      <th>Fuel Consumption City (L/100 km)</th>\n",
       "      <td>0.834228</td>\n",
       "      <td>0.801277</td>\n",
       "      <td>1.000000</td>\n",
       "      <td>0.950811</td>\n",
       "      <td>0.994052</td>\n",
       "      <td>-0.927640</td>\n",
       "      <td>0.918756</td>\n",
       "    </tr>\n",
       "    <tr>\n",
       "      <th>Fuel Consumption Hwy (L/100 km)</th>\n",
       "      <td>0.766817</td>\n",
       "      <td>0.717647</td>\n",
       "      <td>0.950811</td>\n",
       "      <td>1.000000</td>\n",
       "      <td>0.978607</td>\n",
       "      <td>-0.891892</td>\n",
       "      <td>0.883424</td>\n",
       "    </tr>\n",
       "    <tr>\n",
       "      <th>Fuel Consumption Comb (L/100 km)</th>\n",
       "      <td>0.820146</td>\n",
       "      <td>0.781099</td>\n",
       "      <td>0.994052</td>\n",
       "      <td>0.978607</td>\n",
       "      <td>1.000000</td>\n",
       "      <td>-0.925801</td>\n",
       "      <td>0.916840</td>\n",
       "    </tr>\n",
       "    <tr>\n",
       "      <th>Fuel Consumption Comb (mpg)</th>\n",
       "      <td>-0.762955</td>\n",
       "      <td>-0.723731</td>\n",
       "      <td>-0.927640</td>\n",
       "      <td>-0.891892</td>\n",
       "      <td>-0.925801</td>\n",
       "      <td>1.000000</td>\n",
       "      <td>-0.906783</td>\n",
       "    </tr>\n",
       "    <tr>\n",
       "      <th>CO2 Emissions(g/km)</th>\n",
       "      <td>0.854802</td>\n",
       "      <td>0.834687</td>\n",
       "      <td>0.918756</td>\n",
       "      <td>0.883424</td>\n",
       "      <td>0.916840</td>\n",
       "      <td>-0.906783</td>\n",
       "      <td>1.000000</td>\n",
       "    </tr>\n",
       "  </tbody>\n",
       "</table>\n",
       "</div>"
      ],
      "text/plain": [
       "                                  Engine Size(L)  Cylinders  \\\n",
       "Engine Size(L)                          1.000000   0.928843   \n",
       "Cylinders                               0.928843   1.000000   \n",
       "Fuel Consumption City (L/100 km)        0.834228   0.801277   \n",
       "Fuel Consumption Hwy (L/100 km)         0.766817   0.717647   \n",
       "Fuel Consumption Comb (L/100 km)        0.820146   0.781099   \n",
       "Fuel Consumption Comb (mpg)            -0.762955  -0.723731   \n",
       "CO2 Emissions(g/km)                     0.854802   0.834687   \n",
       "\n",
       "                                  Fuel Consumption City (L/100 km)  \\\n",
       "Engine Size(L)                                            0.834228   \n",
       "Cylinders                                                 0.801277   \n",
       "Fuel Consumption City (L/100 km)                          1.000000   \n",
       "Fuel Consumption Hwy (L/100 km)                           0.950811   \n",
       "Fuel Consumption Comb (L/100 km)                          0.994052   \n",
       "Fuel Consumption Comb (mpg)                              -0.927640   \n",
       "CO2 Emissions(g/km)                                       0.918756   \n",
       "\n",
       "                                  Fuel Consumption Hwy (L/100 km)  \\\n",
       "Engine Size(L)                                           0.766817   \n",
       "Cylinders                                                0.717647   \n",
       "Fuel Consumption City (L/100 km)                         0.950811   \n",
       "Fuel Consumption Hwy (L/100 km)                          1.000000   \n",
       "Fuel Consumption Comb (L/100 km)                         0.978607   \n",
       "Fuel Consumption Comb (mpg)                             -0.891892   \n",
       "CO2 Emissions(g/km)                                      0.883424   \n",
       "\n",
       "                                  Fuel Consumption Comb (L/100 km)  \\\n",
       "Engine Size(L)                                            0.820146   \n",
       "Cylinders                                                 0.781099   \n",
       "Fuel Consumption City (L/100 km)                          0.994052   \n",
       "Fuel Consumption Hwy (L/100 km)                           0.978607   \n",
       "Fuel Consumption Comb (L/100 km)                          1.000000   \n",
       "Fuel Consumption Comb (mpg)                              -0.925801   \n",
       "CO2 Emissions(g/km)                                       0.916840   \n",
       "\n",
       "                                  Fuel Consumption Comb (mpg)  \\\n",
       "Engine Size(L)                                      -0.762955   \n",
       "Cylinders                                           -0.723731   \n",
       "Fuel Consumption City (L/100 km)                    -0.927640   \n",
       "Fuel Consumption Hwy (L/100 km)                     -0.891892   \n",
       "Fuel Consumption Comb (L/100 km)                    -0.925801   \n",
       "Fuel Consumption Comb (mpg)                          1.000000   \n",
       "CO2 Emissions(g/km)                                 -0.906783   \n",
       "\n",
       "                                  CO2 Emissions(g/km)  \n",
       "Engine Size(L)                               0.854802  \n",
       "Cylinders                                    0.834687  \n",
       "Fuel Consumption City (L/100 km)             0.918756  \n",
       "Fuel Consumption Hwy (L/100 km)              0.883424  \n",
       "Fuel Consumption Comb (L/100 km)             0.916840  \n",
       "Fuel Consumption Comb (mpg)                 -0.906783  \n",
       "CO2 Emissions(g/km)                          1.000000  "
      ]
     },
     "execution_count": 16,
     "metadata": {},
     "output_type": "execute_result"
    }
   ],
   "source": [
    "data.corr()"
   ]
  },
  {
   "cell_type": "code",
   "execution_count": 18,
   "id": "da62ef1b",
   "metadata": {},
   "outputs": [
    {
     "data": {
      "text/plain": [
       "<AxesSubplot:>"
      ]
     },
     "execution_count": 18,
     "metadata": {},
     "output_type": "execute_result"
    },
    {
     "data": {
      "image/png": "[encoded data removed]",
      "text/plain": [
       "<Figure size 432x288 with 2 Axes>"
      ]
     },
     "metadata": {
      "needs_background": "light"
     },
     "output_type": "display_data"
    }
   ],
   "source": [
    "sns.heatmap(data.corr())"
   ]
  },
  {
   "cell_type": "code",
   "execution_count": 21,
   "id": "5cd28dd3",
   "metadata": {},
   "outputs": [
    {
     "data": {
      "text/plain": [
       "<matplotlib.collections.PathCollection at 0x1d1605873d0>"
      ]
     },
     "execution_count": 21,
     "metadata": {},
     "output_type": "execute_result"
    },
    {
     "data": {
      "image/png": "[encoded data removed]",
      "text/plain": [
       "<Figure size 432x288 with 1 Axes>"
      ]
     },
     "metadata": {
      "needs_background": "light"
     },
     "output_type": "display_data"
    }
   ],
   "source": [
    "plt.scatter(data['Engine Size(L)'], data['CO2 Emissions(g/km)'])"
   ]
  },
  {
   "cell_type": "code",
   "execution_count": 24,
   "id": "603d9dfd",
   "metadata": {},
   "outputs": [
    {
     "data": {
      "text/plain": [
       "<matplotlib.collections.PathCollection at 0x1d160367040>"
      ]
     },
     "execution_count": 24,
     "metadata": {},
     "output_type": "execute_result"
    },
    {
     "data": {
      "image/png": "[encoded data removed]",
      "text/plain": [
       "<Figure size 432x288 with 1 Axes>"
      ]
     },
     "metadata": {
      "needs_background": "light"
     },
     "output_type": "display_data"
    }
   ],
   "source": [
    "plt.scatter(data['Fuel Consumption Comb (L/100 km)'],data['CO2 Emissions(g/km)'])"
   ]
  },
  {
   "cell_type": "code",
   "execution_count": 27,
   "id": "e5448533",
   "metadata": {},
   "outputs": [],
   "source": [
    "# now we are using barplot coz we are comparing 2 numerical values"
   ]
  },
  {
   "cell_type": "code",
   "execution_count": 25,
   "id": "48890f8c",
   "metadata": {},
   "outputs": [
    {
     "name": "stderr",
     "output_type": "stream",
     "text": [
      "c:\\users\\prana\\appdata\\local\\programs\\python\\python39\\lib\\site-packages\\seaborn\\_decorators.py:36: FutureWarning: Pass the following variables as keyword args: x, y. From version 0.12, the only valid positional argument will be `data`, and passing other arguments without an explicit keyword will result in an error or misinterpretation.\n",
      "  warnings.warn(\n"
     ]
    },
    {
     "data": {
      "text/plain": [
       "<AxesSubplot:xlabel='Cylinders', ylabel='CO2 Emissions(g/km)'>"
      ]
     },
     "execution_count": 25,
     "metadata": {},
     "output_type": "execute_result"
    },
    {
     "data": {
      "image/png": "[encoded data removed]",
      "text/plain": [
       "<Figure size 432x288 with 1 Axes>"
      ]
     },
     "metadata": {
      "needs_background": "light"
     },
     "output_type": "display_data"
    }
   ],
   "source": [
    "sns.barplot(data['Cylinders'],data['CO2 Emissions(g/km)'])"
   ]
  },
  {
   "cell_type": "code",
   "execution_count": 26,
   "id": "df24a909",
   "metadata": {},
   "outputs": [
    {
     "name": "stderr",
     "output_type": "stream",
     "text": [
      "c:\\users\\prana\\appdata\\local\\programs\\python\\python39\\lib\\site-packages\\seaborn\\_decorators.py:36: FutureWarning: Pass the following variables as keyword args: x, y. From version 0.12, the only valid positional argument will be `data`, and passing other arguments without an explicit keyword will result in an error or misinterpretation.\n",
      "  warnings.warn(\n"
     ]
    },
    {
     "data": {
      "text/plain": [
       "<AxesSubplot:xlabel='Fuel Type', ylabel='CO2 Emissions(g/km)'>"
      ]
     },
     "execution_count": 26,
     "metadata": {},
     "output_type": "execute_result"
    },
    {
     "data": {
      "image/png": "[encoded data removed]",
      "text/plain": [
       "<Figure size 432x288 with 1 Axes>"
      ]
     },
     "metadata": {
      "needs_background": "light"
     },
     "output_type": "display_data"
    }
   ],
   "source": [
    "sns.barplot(data['Fuel Type'],data['CO2 Emissions(g/km)'])"
   ]
  },
  {
   "cell_type": "code",
   "execution_count": 30,
   "id": "a5804919",
   "metadata": {},
   "outputs": [
    {
     "name": "stderr",
     "output_type": "stream",
     "text": [
      "c:\\users\\prana\\appdata\\local\\programs\\python\\python39\\lib\\site-packages\\seaborn\\_decorators.py:36: FutureWarning: Pass the following variables as keyword args: x, y. From version 0.12, the only valid positional argument will be `data`, and passing other arguments without an explicit keyword will result in an error or misinterpretation.\n",
      "  warnings.warn(\n"
     ]
    },
    {
     "data": {
      "text/plain": [
       "<AxesSubplot:xlabel='CO2 Emissions(g/km)', ylabel='Transmission'>"
      ]
     },
     "execution_count": 30,
     "metadata": {},
     "output_type": "execute_result"
    },
    {
     "data": {
      "image/png": "[encoded data removed]",
      "text/plain": [
       "<Figure size 648x648 with 1 Axes>"
      ]
     },
     "metadata": {
      "needs_background": "light"
     },
     "output_type": "display_data"
    }
   ],
   "source": [
    "plt.figure(figsize=(9,9))\n",
    "order = data.groupby(['Transmission']).mean().sort_values('CO2 Emissions(g/km)', ascending = False).index\n",
    "sns.barplot(data['CO2 Emissions(g/km)'], data['Transmission'], order = order)"
   ]
  },
  {
   "cell_type": "code",
   "execution_count": 36,
   "id": "6aa54445",
   "metadata": {},
   "outputs": [],
   "source": [
    "# in the above cell : groupby  will simply group data according to transmissoin types ( in this case)\n",
    "# and order is a fuction to sort the values according to our need\n",
    "# in the 2 nd line of the above cell we are sorting values acccording to co2 emmisions column"
   ]
  },
  {
   "cell_type": "code",
   "execution_count": 33,
   "id": "b8c268f7",
   "metadata": {},
   "outputs": [
    {
     "data": {
      "text/html": [
       "<div>\n",
       "<style scoped>\n",
       "    .dataframe tbody tr th:only-of-type {\n",
       "        vertical-align: middle;\n",
       "    }\n",
       "\n",
       "    .dataframe tbody tr th {\n",
       "        vertical-align: top;\n",
       "    }\n",
       "\n",
       "    .dataframe thead th {\n",
       "        text-align: right;\n",
       "    }\n",
       "</style>\n",
       "<table border=\"1\" class=\"dataframe\">\n",
       "  <thead>\n",
       "    <tr style=\"text-align: right;\">\n",
       "      <th></th>\n",
       "      <th>Engine Size(L)</th>\n",
       "      <th>Cylinders</th>\n",
       "      <th>Fuel Consumption City (L/100 km)</th>\n",
       "      <th>Fuel Consumption Hwy (L/100 km)</th>\n",
       "      <th>Fuel Consumption Comb (L/100 km)</th>\n",
       "      <th>Fuel Consumption Comb (mpg)</th>\n",
       "      <th>CO2 Emissions(g/km)</th>\n",
       "    </tr>\n",
       "    <tr>\n",
       "      <th>Transmission</th>\n",
       "      <th></th>\n",
       "      <th></th>\n",
       "      <th></th>\n",
       "      <th></th>\n",
       "      <th></th>\n",
       "      <th></th>\n",
       "      <th></th>\n",
       "    </tr>\n",
       "  </thead>\n",
       "  <tbody>\n",
       "    <tr>\n",
       "      <th>A10</th>\n",
       "      <td>5.500000</td>\n",
       "      <td>7.642857</td>\n",
       "      <td>15.096429</td>\n",
       "      <td>10.750000</td>\n",
       "      <td>13.135714</td>\n",
       "      <td>21.928571</td>\n",
       "      <td>313.964286</td>\n",
       "    </tr>\n",
       "    <tr>\n",
       "      <th>A4</th>\n",
       "      <td>3.760656</td>\n",
       "      <td>6.163934</td>\n",
       "      <td>16.306557</td>\n",
       "      <td>12.549180</td>\n",
       "      <td>14.618033</td>\n",
       "      <td>22.688525</td>\n",
       "      <td>296.590164</td>\n",
       "    </tr>\n",
       "    <tr>\n",
       "      <th>A5</th>\n",
       "      <td>4.205128</td>\n",
       "      <td>6.410256</td>\n",
       "      <td>15.293590</td>\n",
       "      <td>10.678205</td>\n",
       "      <td>13.214103</td>\n",
       "      <td>21.807692</td>\n",
       "      <td>299.371795</td>\n",
       "    </tr>\n",
       "    <tr>\n",
       "      <th>A6</th>\n",
       "      <td>3.829094</td>\n",
       "      <td>6.108187</td>\n",
       "      <td>15.040936</td>\n",
       "      <td>10.705702</td>\n",
       "      <td>13.094591</td>\n",
       "      <td>23.236842</td>\n",
       "      <td>278.798246</td>\n",
       "    </tr>\n",
       "    <tr>\n",
       "      <th>A7</th>\n",
       "      <td>4.127273</td>\n",
       "      <td>7.590909</td>\n",
       "      <td>15.436364</td>\n",
       "      <td>11.081818</td>\n",
       "      <td>13.475000</td>\n",
       "      <td>21.477273</td>\n",
       "      <td>314.272727</td>\n",
       "    </tr>\n",
       "    <tr>\n",
       "      <th>A8</th>\n",
       "      <td>4.323280</td>\n",
       "      <td>6.888889</td>\n",
       "      <td>14.439153</td>\n",
       "      <td>10.025926</td>\n",
       "      <td>12.453175</td>\n",
       "      <td>23.335979</td>\n",
       "      <td>285.415344</td>\n",
       "    </tr>\n",
       "    <tr>\n",
       "      <th>A9</th>\n",
       "      <td>2.929278</td>\n",
       "      <td>5.486692</td>\n",
       "      <td>12.405703</td>\n",
       "      <td>8.878707</td>\n",
       "      <td>10.821673</td>\n",
       "      <td>26.714829</td>\n",
       "      <td>247.368821</td>\n",
       "    </tr>\n",
       "    <tr>\n",
       "      <th>AM5</th>\n",
       "      <td>1.000000</td>\n",
       "      <td>3.000000</td>\n",
       "      <td>6.850000</td>\n",
       "      <td>5.950000</td>\n",
       "      <td>6.450000</td>\n",
       "      <td>43.500000</td>\n",
       "      <td>148.500000</td>\n",
       "    </tr>\n",
       "    <tr>\n",
       "      <th>AM6</th>\n",
       "      <td>2.014019</td>\n",
       "      <td>4.158879</td>\n",
       "      <td>9.108411</td>\n",
       "      <td>6.994393</td>\n",
       "      <td>8.156075</td>\n",
       "      <td>37.429907</td>\n",
       "      <td>189.280374</td>\n",
       "    </tr>\n",
       "    <tr>\n",
       "      <th>AM7</th>\n",
       "      <td>3.411488</td>\n",
       "      <td>6.373368</td>\n",
       "      <td>13.320104</td>\n",
       "      <td>9.434204</td>\n",
       "      <td>11.578329</td>\n",
       "      <td>25.840731</td>\n",
       "      <td>269.856397</td>\n",
       "    </tr>\n",
       "    <tr>\n",
       "      <th>AM8</th>\n",
       "      <td>3.300000</td>\n",
       "      <td>6.488889</td>\n",
       "      <td>12.575556</td>\n",
       "      <td>8.924444</td>\n",
       "      <td>10.937778</td>\n",
       "      <td>26.511111</td>\n",
       "      <td>255.622222</td>\n",
       "    </tr>\n",
       "    <tr>\n",
       "      <th>AM9</th>\n",
       "      <td>3.500000</td>\n",
       "      <td>6.000000</td>\n",
       "      <td>11.100000</td>\n",
       "      <td>10.800000</td>\n",
       "      <td>11.000000</td>\n",
       "      <td>26.000000</td>\n",
       "      <td>261.000000</td>\n",
       "    </tr>\n",
       "    <tr>\n",
       "      <th>AS10</th>\n",
       "      <td>3.707285</td>\n",
       "      <td>6.357616</td>\n",
       "      <td>14.200000</td>\n",
       "      <td>10.446358</td>\n",
       "      <td>12.518543</td>\n",
       "      <td>23.337748</td>\n",
       "      <td>283.125828</td>\n",
       "    </tr>\n",
       "    <tr>\n",
       "      <th>AS4</th>\n",
       "      <td>2.400000</td>\n",
       "      <td>4.000000</td>\n",
       "      <td>10.900000</td>\n",
       "      <td>8.550000</td>\n",
       "      <td>9.850000</td>\n",
       "      <td>29.000000</td>\n",
       "      <td>226.500000</td>\n",
       "    </tr>\n",
       "    <tr>\n",
       "      <th>AS5</th>\n",
       "      <td>3.488462</td>\n",
       "      <td>5.461538</td>\n",
       "      <td>13.169231</td>\n",
       "      <td>10.292308</td>\n",
       "      <td>11.880769</td>\n",
       "      <td>24.230769</td>\n",
       "      <td>275.115385</td>\n",
       "    </tr>\n",
       "    <tr>\n",
       "      <th>AS6</th>\n",
       "      <td>2.752239</td>\n",
       "      <td>4.995610</td>\n",
       "      <td>12.118964</td>\n",
       "      <td>8.828358</td>\n",
       "      <td>10.633977</td>\n",
       "      <td>28.015803</td>\n",
       "      <td>240.277436</td>\n",
       "    </tr>\n",
       "    <tr>\n",
       "      <th>AS7</th>\n",
       "      <td>4.060424</td>\n",
       "      <td>6.848057</td>\n",
       "      <td>13.744523</td>\n",
       "      <td>9.902120</td>\n",
       "      <td>12.014134</td>\n",
       "      <td>24.530035</td>\n",
       "      <td>278.431095</td>\n",
       "    </tr>\n",
       "    <tr>\n",
       "      <th>AS8</th>\n",
       "      <td>3.304545</td>\n",
       "      <td>6.111742</td>\n",
       "      <td>13.084186</td>\n",
       "      <td>9.049621</td>\n",
       "      <td>11.266856</td>\n",
       "      <td>26.167614</td>\n",
       "      <td>262.435606</td>\n",
       "    </tr>\n",
       "    <tr>\n",
       "      <th>AS9</th>\n",
       "      <td>2.947692</td>\n",
       "      <td>5.200000</td>\n",
       "      <td>11.992308</td>\n",
       "      <td>8.693846</td>\n",
       "      <td>10.501538</td>\n",
       "      <td>27.030769</td>\n",
       "      <td>245.815385</td>\n",
       "    </tr>\n",
       "    <tr>\n",
       "      <th>AV</th>\n",
       "      <td>2.089627</td>\n",
       "      <td>4.174274</td>\n",
       "      <td>8.019087</td>\n",
       "      <td>6.739834</td>\n",
       "      <td>7.447718</td>\n",
       "      <td>40.149378</td>\n",
       "      <td>173.481328</td>\n",
       "    </tr>\n",
       "    <tr>\n",
       "      <th>AV10</th>\n",
       "      <td>2.833333</td>\n",
       "      <td>5.111111</td>\n",
       "      <td>8.688889</td>\n",
       "      <td>6.666667</td>\n",
       "      <td>7.755556</td>\n",
       "      <td>36.888889</td>\n",
       "      <td>181.444444</td>\n",
       "    </tr>\n",
       "    <tr>\n",
       "      <th>AV6</th>\n",
       "      <td>2.578652</td>\n",
       "      <td>4.471910</td>\n",
       "      <td>8.820225</td>\n",
       "      <td>7.473034</td>\n",
       "      <td>8.216854</td>\n",
       "      <td>35.393258</td>\n",
       "      <td>190.752809</td>\n",
       "    </tr>\n",
       "    <tr>\n",
       "      <th>AV7</th>\n",
       "      <td>2.236957</td>\n",
       "      <td>4.456522</td>\n",
       "      <td>9.081522</td>\n",
       "      <td>7.188043</td>\n",
       "      <td>8.230435</td>\n",
       "      <td>34.934783</td>\n",
       "      <td>192.260870</td>\n",
       "    </tr>\n",
       "    <tr>\n",
       "      <th>AV8</th>\n",
       "      <td>2.426471</td>\n",
       "      <td>4.588235</td>\n",
       "      <td>10.170588</td>\n",
       "      <td>8.291176</td>\n",
       "      <td>9.329412</td>\n",
       "      <td>30.823529</td>\n",
       "      <td>216.735294</td>\n",
       "    </tr>\n",
       "    <tr>\n",
       "      <th>M5</th>\n",
       "      <td>1.851190</td>\n",
       "      <td>3.958333</td>\n",
       "      <td>9.461310</td>\n",
       "      <td>7.278571</td>\n",
       "      <td>8.483333</td>\n",
       "      <td>33.952381</td>\n",
       "      <td>195.178571</td>\n",
       "    </tr>\n",
       "    <tr>\n",
       "      <th>M6</th>\n",
       "      <td>2.586546</td>\n",
       "      <td>4.848642</td>\n",
       "      <td>11.452911</td>\n",
       "      <td>8.135188</td>\n",
       "      <td>9.961578</td>\n",
       "      <td>29.710220</td>\n",
       "      <td>232.157827</td>\n",
       "    </tr>\n",
       "    <tr>\n",
       "      <th>M7</th>\n",
       "      <td>3.717949</td>\n",
       "      <td>6.333333</td>\n",
       "      <td>13.088462</td>\n",
       "      <td>9.020513</td>\n",
       "      <td>11.251282</td>\n",
       "      <td>25.282051</td>\n",
       "      <td>262.025641</td>\n",
       "    </tr>\n",
       "  </tbody>\n",
       "</table>\n",
       "</div>"
      ],
      "text/plain": [
       "              Engine Size(L)  Cylinders  Fuel Consumption City (L/100 km)  \\\n",
       "Transmission                                                                \n",
       "A10                 5.500000   7.642857                         15.096429   \n",
       "A4                  3.760656   6.163934                         16.306557   \n",
       "A5                  4.205128   6.410256                         15.293590   \n",
       "A6                  3.829094   6.108187                         15.040936   \n",
       "A7                  4.127273   7.590909                         15.436364   \n",
       "A8                  4.323280   6.888889                         14.439153   \n",
       "A9                  2.929278   5.486692                         12.405703   \n",
       "AM5                 1.000000   3.000000                          6.850000   \n",
       "AM6                 2.014019   4.158879                          9.108411   \n",
       "AM7                 3.411488   6.373368                         13.320104   \n",
       "AM8                 3.300000   6.488889                         12.575556   \n",
       "AM9                 3.500000   6.000000                         11.100000   \n",
       "AS10                3.707285   6.357616                         14.200000   \n",
       "AS4                 2.400000   4.000000                         10.900000   \n",
       "AS5                 3.488462   5.461538                         13.169231   \n",
       "AS6                 2.752239   4.995610                         12.118964   \n",
       "AS7                 4.060424   6.848057                         13.744523   \n",
       "AS8                 3.304545   6.111742                         13.084186   \n",
       "AS9                 2.947692   5.200000                         11.992308   \n",
       "AV                  2.089627   4.174274                          8.019087   \n",
       "AV10                2.833333   5.111111                          8.688889   \n",
       "AV6                 2.578652   4.471910                          8.820225   \n",
       "AV7                 2.236957   4.456522                          9.081522   \n",
       "AV8                 2.426471   4.588235                         10.170588   \n",
       "M5                  1.851190   3.958333                          9.461310   \n",
       "M6                  2.586546   4.848642                         11.452911   \n",
       "M7                  3.717949   6.333333                         13.088462   \n",
       "\n",
       "              Fuel Consumption Hwy (L/100 km)  \\\n",
       "Transmission                                    \n",
       "A10                                 10.750000   \n",
       "A4                                  12.549180   \n",
       "A5                                  10.678205   \n",
       "A6                                  10.705702   \n",
       "A7                                  11.081818   \n",
       "A8                                  10.025926   \n",
       "A9                                   8.878707   \n",
       "AM5                                  5.950000   \n",
       "AM6                                  6.994393   \n",
       "AM7                                  9.434204   \n",
       "AM8                                  8.924444   \n",
       "AM9                                 10.800000   \n",
       "AS10                                10.446358   \n",
       "AS4                                  8.550000   \n",
       "AS5                                 10.292308   \n",
       "AS6                                  8.828358   \n",
       "AS7                                  9.902120   \n",
       "AS8                                  9.049621   \n",
       "AS9                                  8.693846   \n",
       "AV                                   6.739834   \n",
       "AV10                                 6.666667   \n",
       "AV6                                  7.473034   \n",
       "AV7                                  7.188043   \n",
       "AV8                                  8.291176   \n",
       "M5                                   7.278571   \n",
       "M6                                   8.135188   \n",
       "M7                                   9.020513   \n",
       "\n",
       "              Fuel Consumption Comb (L/100 km)  Fuel Consumption Comb (mpg)  \\\n",
       "Transmission                                                                  \n",
       "A10                                  13.135714                    21.928571   \n",
       "A4                                   14.618033                    22.688525   \n",
       "A5                                   13.214103                    21.807692   \n",
       "A6                                   13.094591                    23.236842   \n",
       "A7                                   13.475000                    21.477273   \n",
       "A8                                   12.453175                    23.335979   \n",
       "A9                                   10.821673                    26.714829   \n",
       "AM5                                   6.450000                    43.500000   \n",
       "AM6                                   8.156075                    37.429907   \n",
       "AM7                                  11.578329                    25.840731   \n",
       "AM8                                  10.937778                    26.511111   \n",
       "AM9                                  11.000000                    26.000000   \n",
       "AS10                                 12.518543                    23.337748   \n",
       "AS4                                   9.850000                    29.000000   \n",
       "AS5                                  11.880769                    24.230769   \n",
       "AS6                                  10.633977                    28.015803   \n",
       "AS7                                  12.014134                    24.530035   \n",
       "AS8                                  11.266856                    26.167614   \n",
       "AS9                                  10.501538                    27.030769   \n",
       "AV                                    7.447718                    40.149378   \n",
       "AV10                                  7.755556                    36.888889   \n",
       "AV6                                   8.216854                    35.393258   \n",
       "AV7                                   8.230435                    34.934783   \n",
       "AV8                                   9.329412                    30.823529   \n",
       "M5                                    8.483333                    33.952381   \n",
       "M6                                    9.961578                    29.710220   \n",
       "M7                                   11.251282                    25.282051   \n",
       "\n",
       "              CO2 Emissions(g/km)  \n",
       "Transmission                       \n",
       "A10                    313.964286  \n",
       "A4                     296.590164  \n",
       "A5                     299.371795  \n",
       "A6                     278.798246  \n",
       "A7                     314.272727  \n",
       "A8                     285.415344  \n",
       "A9                     247.368821  \n",
       "AM5                    148.500000  \n",
       "AM6                    189.280374  \n",
       "AM7                    269.856397  \n",
       "AM8                    255.622222  \n",
       "AM9                    261.000000  \n",
       "AS10                   283.125828  \n",
       "AS4                    226.500000  \n",
       "AS5                    275.115385  \n",
       "AS6                    240.277436  \n",
       "AS7                    278.431095  \n",
       "AS8                    262.435606  \n",
       "AS9                    245.815385  \n",
       "AV                     173.481328  \n",
       "AV10                   181.444444  \n",
       "AV6                    190.752809  \n",
       "AV7                    192.260870  \n",
       "AV8                    216.735294  \n",
       "M5                     195.178571  \n",
       "M6                     232.157827  \n",
       "M7                     262.025641  "
      ]
     },
     "execution_count": 33,
     "metadata": {},
     "output_type": "execute_result"
    }
   ],
   "source": [
    "data.groupby(['Transmission']).mean()"
   ]
  },
  {
   "cell_type": "code",
   "execution_count": 35,
   "id": "c6139f51",
   "metadata": {},
   "outputs": [
    {
     "name": "stderr",
     "output_type": "stream",
     "text": [
      "C:\\Users\\prana\\AppData\\Local\\Temp/ipykernel_3600/531903386.py:1: FutureWarning: Dropping of nuisance columns in DataFrame reductions (with 'numeric_only=None') is deprecated; in a future version this will raise TypeError.  Select only valid columns before calling the reduction.\n",
      "  data.mean()\n"
     ]
    },
    {
     "data": {
      "text/plain": [
       "Engine Size(L)                        3.161812\n",
       "Cylinders                             5.618911\n",
       "Fuel Consumption City (L/100 km)     12.610220\n",
       "Fuel Consumption Hwy (L/100 km)       9.070583\n",
       "Fuel Consumption Comb (L/100 km)     11.017876\n",
       "Fuel Consumption Comb (mpg)          27.411016\n",
       "CO2 Emissions(g/km)                 251.157752\n",
       "dtype: float64"
      ]
     },
     "execution_count": 35,
     "metadata": {},
     "output_type": "execute_result"
    }
   ],
   "source": [
    "data.mean()"
   ]
  },
  {
   "cell_type": "code",
   "execution_count": 39,
   "id": "4d0d4e26",
   "metadata": {},
   "outputs": [
    {
     "data": {
      "text/plain": [
       "Index(['A7', 'A10', 'A5', 'A4', 'A8', 'AS10', 'A6', 'AS7', 'AS5', 'AM7', 'AS8',\n",
       "       'M7', 'AM9', 'AM8', 'A9', 'AS9', 'AS6', 'M6', 'AS4', 'AV8', 'M5', 'AV7',\n",
       "       'AV6', 'AM6', 'AV10', 'AV', 'AM5'],\n",
       "      dtype='object', name='Transmission')"
      ]
     },
     "execution_count": 39,
     "metadata": {},
     "output_type": "execute_result"
    }
   ],
   "source": [
    "data.groupby(['Transmission']).mean().sort_values('CO2 Emissions(g/km)', ascending = False).index"
   ]
  },
  {
   "cell_type": "code",
   "execution_count": 40,
   "id": "ec88467c",
   "metadata": {},
   "outputs": [
    {
     "data": {
      "text/html": [
       "<div>\n",
       "<style scoped>\n",
       "    .dataframe tbody tr th:only-of-type {\n",
       "        vertical-align: middle;\n",
       "    }\n",
       "\n",
       "    .dataframe tbody tr th {\n",
       "        vertical-align: top;\n",
       "    }\n",
       "\n",
       "    .dataframe thead th {\n",
       "        text-align: right;\n",
       "    }\n",
       "</style>\n",
       "<table border=\"1\" class=\"dataframe\">\n",
       "  <thead>\n",
       "    <tr style=\"text-align: right;\">\n",
       "      <th></th>\n",
       "      <th>Vehicle Class</th>\n",
       "      <th>Transmission</th>\n",
       "      <th>Fuel Type</th>\n",
       "      <th>Engine Size(L)</th>\n",
       "      <th>Cylinders</th>\n",
       "      <th>Fuel Consumption Comb (L/100 km)</th>\n",
       "    </tr>\n",
       "  </thead>\n",
       "  <tbody>\n",
       "    <tr>\n",
       "      <th>0</th>\n",
       "      <td>COMPACT</td>\n",
       "      <td>AS5</td>\n",
       "      <td>Z</td>\n",
       "      <td>2.0</td>\n",
       "      <td>4</td>\n",
       "      <td>8.5</td>\n",
       "    </tr>\n",
       "    <tr>\n",
       "      <th>1</th>\n",
       "      <td>COMPACT</td>\n",
       "      <td>M6</td>\n",
       "      <td>Z</td>\n",
       "      <td>2.4</td>\n",
       "      <td>4</td>\n",
       "      <td>9.6</td>\n",
       "    </tr>\n",
       "    <tr>\n",
       "      <th>2</th>\n",
       "      <td>COMPACT</td>\n",
       "      <td>AV7</td>\n",
       "      <td>Z</td>\n",
       "      <td>1.5</td>\n",
       "      <td>4</td>\n",
       "      <td>5.9</td>\n",
       "    </tr>\n",
       "    <tr>\n",
       "      <th>3</th>\n",
       "      <td>SUV - SMALL</td>\n",
       "      <td>AS6</td>\n",
       "      <td>Z</td>\n",
       "      <td>3.5</td>\n",
       "      <td>6</td>\n",
       "      <td>11.1</td>\n",
       "    </tr>\n",
       "    <tr>\n",
       "      <th>4</th>\n",
       "      <td>SUV - SMALL</td>\n",
       "      <td>AS6</td>\n",
       "      <td>Z</td>\n",
       "      <td>3.5</td>\n",
       "      <td>6</td>\n",
       "      <td>10.6</td>\n",
       "    </tr>\n",
       "    <tr>\n",
       "      <th>5</th>\n",
       "      <td>MID-SIZE</td>\n",
       "      <td>AS6</td>\n",
       "      <td>Z</td>\n",
       "      <td>3.5</td>\n",
       "      <td>6</td>\n",
       "      <td>10.0</td>\n",
       "    </tr>\n",
       "    <tr>\n",
       "      <th>6</th>\n",
       "      <td>MID-SIZE</td>\n",
       "      <td>AS6</td>\n",
       "      <td>Z</td>\n",
       "      <td>3.5</td>\n",
       "      <td>6</td>\n",
       "      <td>10.1</td>\n",
       "    </tr>\n",
       "    <tr>\n",
       "      <th>7</th>\n",
       "      <td>MID-SIZE</td>\n",
       "      <td>AS6</td>\n",
       "      <td>Z</td>\n",
       "      <td>3.7</td>\n",
       "      <td>6</td>\n",
       "      <td>11.1</td>\n",
       "    </tr>\n",
       "    <tr>\n",
       "      <th>8</th>\n",
       "      <td>MID-SIZE</td>\n",
       "      <td>M6</td>\n",
       "      <td>Z</td>\n",
       "      <td>3.7</td>\n",
       "      <td>6</td>\n",
       "      <td>11.6</td>\n",
       "    </tr>\n",
       "    <tr>\n",
       "      <th>9</th>\n",
       "      <td>COMPACT</td>\n",
       "      <td>AS5</td>\n",
       "      <td>Z</td>\n",
       "      <td>2.4</td>\n",
       "      <td>4</td>\n",
       "      <td>9.2</td>\n",
       "    </tr>\n",
       "  </tbody>\n",
       "</table>\n",
       "</div>"
      ],
      "text/plain": [
       "  Vehicle Class Transmission Fuel Type  Engine Size(L)  Cylinders  \\\n",
       "0       COMPACT          AS5         Z             2.0          4   \n",
       "1       COMPACT           M6         Z             2.4          4   \n",
       "2       COMPACT          AV7         Z             1.5          4   \n",
       "3   SUV - SMALL          AS6         Z             3.5          6   \n",
       "4   SUV - SMALL          AS6         Z             3.5          6   \n",
       "5      MID-SIZE          AS6         Z             3.5          6   \n",
       "6      MID-SIZE          AS6         Z             3.5          6   \n",
       "7      MID-SIZE          AS6         Z             3.7          6   \n",
       "8      MID-SIZE           M6         Z             3.7          6   \n",
       "9       COMPACT          AS5         Z             2.4          4   \n",
       "\n",
       "   Fuel Consumption Comb (L/100 km)  \n",
       "0                               8.5  \n",
       "1                               9.6  \n",
       "2                               5.9  \n",
       "3                              11.1  \n",
       "4                              10.6  \n",
       "5                              10.0  \n",
       "6                              10.1  \n",
       "7                              11.1  \n",
       "8                              11.6  \n",
       "9                               9.2  "
      ]
     },
     "execution_count": 40,
     "metadata": {},
     "output_type": "execute_result"
    }
   ],
   "source": [
    "cols = ['Vehicle Class','Transmission','Fuel Type','Engine Size(L)','Cylinders','Fuel Consumption Comb (L/100 km)']\n",
    "X = data[cols]\n",
    "Y = data[['CO2 Emissions(g/km)']]\n",
    "X.head(10)"
   ]
  },
  {
   "cell_type": "code",
   "execution_count": 41,
   "id": "460fe1b8",
   "metadata": {},
   "outputs": [
    {
     "data": {
      "text/html": [
       "<div>\n",
       "<style scoped>\n",
       "    .dataframe tbody tr th:only-of-type {\n",
       "        vertical-align: middle;\n",
       "    }\n",
       "\n",
       "    .dataframe tbody tr th {\n",
       "        vertical-align: top;\n",
       "    }\n",
       "\n",
       "    .dataframe thead th {\n",
       "        text-align: right;\n",
       "    }\n",
       "</style>\n",
       "<table border=\"1\" class=\"dataframe\">\n",
       "  <thead>\n",
       "    <tr style=\"text-align: right;\">\n",
       "      <th></th>\n",
       "      <th>CO2 Emissions(g/km)</th>\n",
       "    </tr>\n",
       "  </thead>\n",
       "  <tbody>\n",
       "    <tr>\n",
       "      <th>0</th>\n",
       "      <td>196</td>\n",
       "    </tr>\n",
       "    <tr>\n",
       "      <th>1</th>\n",
       "      <td>221</td>\n",
       "    </tr>\n",
       "    <tr>\n",
       "      <th>2</th>\n",
       "      <td>136</td>\n",
       "    </tr>\n",
       "    <tr>\n",
       "      <th>3</th>\n",
       "      <td>255</td>\n",
       "    </tr>\n",
       "    <tr>\n",
       "      <th>4</th>\n",
       "      <td>244</td>\n",
       "    </tr>\n",
       "    <tr>\n",
       "      <th>...</th>\n",
       "      <td>...</td>\n",
       "    </tr>\n",
       "    <tr>\n",
       "      <th>7380</th>\n",
       "      <td>219</td>\n",
       "    </tr>\n",
       "    <tr>\n",
       "      <th>7381</th>\n",
       "      <td>232</td>\n",
       "    </tr>\n",
       "    <tr>\n",
       "      <th>7382</th>\n",
       "      <td>240</td>\n",
       "    </tr>\n",
       "    <tr>\n",
       "      <th>7383</th>\n",
       "      <td>232</td>\n",
       "    </tr>\n",
       "    <tr>\n",
       "      <th>7384</th>\n",
       "      <td>248</td>\n",
       "    </tr>\n",
       "  </tbody>\n",
       "</table>\n",
       "<p>6282 rows × 1 columns</p>\n",
       "</div>"
      ],
      "text/plain": [
       "      CO2 Emissions(g/km)\n",
       "0                     196\n",
       "1                     221\n",
       "2                     136\n",
       "3                     255\n",
       "4                     244\n",
       "...                   ...\n",
       "7380                  219\n",
       "7381                  232\n",
       "7382                  240\n",
       "7383                  232\n",
       "7384                  248\n",
       "\n",
       "[6282 rows x 1 columns]"
      ]
     },
     "execution_count": 41,
     "metadata": {},
     "output_type": "execute_result"
    }
   ],
   "source": [
    "Y"
   ]
  },
  {
   "cell_type": "code",
   "execution_count": 45,
   "id": "91908ffc",
   "metadata": {},
   "outputs": [
    {
     "name": "stderr",
     "output_type": "stream",
     "text": [
      "c:\\users\\prana\\appdata\\local\\programs\\python\\python39\\lib\\site-packages\\pandas\\core\\frame.py:3673: SettingWithCopyWarning: \n",
      "A value is trying to be set on a copy of a slice from a DataFrame.\n",
      "Try using .loc[row_indexer,col_indexer] = value instead\n",
      "\n",
      "See the caveats in the documentation: https://pandas.pydata.org/pandas-docs/stable/user_guide/indexing.html#returning-a-view-versus-a-copy\n",
      "  self[col] = igetitem(value, i)\n"
     ]
    }
   ],
   "source": [
    "from sklearn.preprocessing import StandardScaler\n",
    "sc = StandardScaler()\n",
    "cols = ['Engine Size(L)', 'Cylinders','Fuel Consumption Comb (L/100 km)']\n",
    "X[cols] = sc.fit_transform(X[cols])   # in this cell the data is converted as mean is 0 and step deviation 1 and variance as 1"
   ]
  },
  {
   "cell_type": "code",
   "execution_count": 46,
   "id": "606f5351",
   "metadata": {},
   "outputs": [
    {
     "name": "stderr",
     "output_type": "stream",
     "text": [
      "c:\\users\\prana\\appdata\\local\\programs\\python\\python39\\lib\\site-packages\\pandas\\core\\frame.py:3673: SettingWithCopyWarning: \n",
      "A value is trying to be set on a copy of a slice from a DataFrame.\n",
      "Try using .loc[row_indexer,col_indexer] = value instead\n",
      "\n",
      "See the caveats in the documentation: https://pandas.pydata.org/pandas-docs/stable/user_guide/indexing.html#returning-a-view-versus-a-copy\n",
      "  self[col] = igetitem(value, i)\n"
     ]
    }
   ],
   "source": [
    "from sklearn.preprocessing import OrdinalEncoder  #we use ordinalencoder instead of labelencoder coz we want to convert multiple aplhabetical columns to numerical\n",
    "oe = OrdinalEncoder()\n",
    "cols = ['Vehicle Class','Transmission', 'Fuel Type']\n",
    "X[cols] = oe.fit_transform(X[cols])             #here we convert alpha betical data to numerical"
   ]
  },
  {
   "cell_type": "code",
   "execution_count": 47,
   "id": "ad0f2dda",
   "metadata": {},
   "outputs": [
    {
     "data": {
      "text/html": [
       "<div>\n",
       "<style scoped>\n",
       "    .dataframe tbody tr th:only-of-type {\n",
       "        vertical-align: middle;\n",
       "    }\n",
       "\n",
       "    .dataframe tbody tr th {\n",
       "        vertical-align: top;\n",
       "    }\n",
       "\n",
       "    .dataframe thead th {\n",
       "        text-align: right;\n",
       "    }\n",
       "</style>\n",
       "<table border=\"1\" class=\"dataframe\">\n",
       "  <thead>\n",
       "    <tr style=\"text-align: right;\">\n",
       "      <th></th>\n",
       "      <th>Vehicle Class</th>\n",
       "      <th>Transmission</th>\n",
       "      <th>Fuel Type</th>\n",
       "      <th>Engine Size(L)</th>\n",
       "      <th>Cylinders</th>\n",
       "      <th>Fuel Consumption Comb (L/100 km)</th>\n",
       "    </tr>\n",
       "  </thead>\n",
       "  <tbody>\n",
       "    <tr>\n",
       "      <th>0</th>\n",
       "      <td>0.0</td>\n",
       "      <td>14.0</td>\n",
       "      <td>4.0</td>\n",
       "      <td>-0.851086</td>\n",
       "      <td>-0.876934</td>\n",
       "      <td>-0.854490</td>\n",
       "    </tr>\n",
       "    <tr>\n",
       "      <th>1</th>\n",
       "      <td>0.0</td>\n",
       "      <td>25.0</td>\n",
       "      <td>4.0</td>\n",
       "      <td>-0.558066</td>\n",
       "      <td>-0.876934</td>\n",
       "      <td>-0.481184</td>\n",
       "    </tr>\n",
       "    <tr>\n",
       "      <th>2</th>\n",
       "      <td>0.0</td>\n",
       "      <td>22.0</td>\n",
       "      <td>4.0</td>\n",
       "      <td>-1.217362</td>\n",
       "      <td>-0.876934</td>\n",
       "      <td>-1.736851</td>\n",
       "    </tr>\n",
       "    <tr>\n",
       "      <th>3</th>\n",
       "      <td>11.0</td>\n",
       "      <td>15.0</td>\n",
       "      <td>4.0</td>\n",
       "      <td>0.247740</td>\n",
       "      <td>0.206429</td>\n",
       "      <td>0.027870</td>\n",
       "    </tr>\n",
       "    <tr>\n",
       "      <th>4</th>\n",
       "      <td>11.0</td>\n",
       "      <td>15.0</td>\n",
       "      <td>4.0</td>\n",
       "      <td>0.247740</td>\n",
       "      <td>0.206429</td>\n",
       "      <td>-0.141815</td>\n",
       "    </tr>\n",
       "    <tr>\n",
       "      <th>5</th>\n",
       "      <td>2.0</td>\n",
       "      <td>15.0</td>\n",
       "      <td>4.0</td>\n",
       "      <td>0.247740</td>\n",
       "      <td>0.206429</td>\n",
       "      <td>-0.345436</td>\n",
       "    </tr>\n",
       "    <tr>\n",
       "      <th>6</th>\n",
       "      <td>2.0</td>\n",
       "      <td>15.0</td>\n",
       "      <td>4.0</td>\n",
       "      <td>0.247740</td>\n",
       "      <td>0.206429</td>\n",
       "      <td>-0.311499</td>\n",
       "    </tr>\n",
       "    <tr>\n",
       "      <th>7</th>\n",
       "      <td>2.0</td>\n",
       "      <td>15.0</td>\n",
       "      <td>4.0</td>\n",
       "      <td>0.394251</td>\n",
       "      <td>0.206429</td>\n",
       "      <td>0.027870</td>\n",
       "    </tr>\n",
       "    <tr>\n",
       "      <th>8</th>\n",
       "      <td>2.0</td>\n",
       "      <td>25.0</td>\n",
       "      <td>4.0</td>\n",
       "      <td>0.394251</td>\n",
       "      <td>0.206429</td>\n",
       "      <td>0.197555</td>\n",
       "    </tr>\n",
       "    <tr>\n",
       "      <th>9</th>\n",
       "      <td>0.0</td>\n",
       "      <td>14.0</td>\n",
       "      <td>4.0</td>\n",
       "      <td>-0.558066</td>\n",
       "      <td>-0.876934</td>\n",
       "      <td>-0.616932</td>\n",
       "    </tr>\n",
       "  </tbody>\n",
       "</table>\n",
       "</div>"
      ],
      "text/plain": [
       "   Vehicle Class  Transmission  Fuel Type  Engine Size(L)  Cylinders  \\\n",
       "0            0.0          14.0        4.0       -0.851086  -0.876934   \n",
       "1            0.0          25.0        4.0       -0.558066  -0.876934   \n",
       "2            0.0          22.0        4.0       -1.217362  -0.876934   \n",
       "3           11.0          15.0        4.0        0.247740   0.206429   \n",
       "4           11.0          15.0        4.0        0.247740   0.206429   \n",
       "5            2.0          15.0        4.0        0.247740   0.206429   \n",
       "6            2.0          15.0        4.0        0.247740   0.206429   \n",
       "7            2.0          15.0        4.0        0.394251   0.206429   \n",
       "8            2.0          25.0        4.0        0.394251   0.206429   \n",
       "9            0.0          14.0        4.0       -0.558066  -0.876934   \n",
       "\n",
       "   Fuel Consumption Comb (L/100 km)  \n",
       "0                         -0.854490  \n",
       "1                         -0.481184  \n",
       "2                         -1.736851  \n",
       "3                          0.027870  \n",
       "4                         -0.141815  \n",
       "5                         -0.345436  \n",
       "6                         -0.311499  \n",
       "7                          0.027870  \n",
       "8                          0.197555  \n",
       "9                         -0.616932  "
      ]
     },
     "execution_count": 47,
     "metadata": {},
     "output_type": "execute_result"
    }
   ],
   "source": [
    "X.head(10)"
   ]
  },
  {
   "cell_type": "code",
   "execution_count": 48,
   "id": "58d18d58",
   "metadata": {},
   "outputs": [],
   "source": [
    "#now on to the next step train test \n",
    "from sklearn.model_selection import train_test_split\n",
    "x_train, x_test, y_train, y_test = train_test_split(X,Y, test_size = 0.25, random_state = 5)"
   ]
  },
  {
   "cell_type": "code",
   "execution_count": 49,
   "id": "3158ac53",
   "metadata": {},
   "outputs": [
    {
     "data": {
      "text/plain": [
       "LinearRegression()"
      ]
     },
     "execution_count": 49,
     "metadata": {},
     "output_type": "execute_result"
    }
   ],
   "source": [
    "from sklearn.linear_model import LinearRegression\n",
    "lin_reg = LinearRegression()\n",
    "lin_reg.fit(x_train,y_train) #after this cell executes we are done training our model"
   ]
  },
  {
   "cell_type": "code",
   "execution_count": 50,
   "id": "88869388",
   "metadata": {},
   "outputs": [
    {
     "data": {
      "text/plain": [
       "0.9083364731173277"
      ]
     },
     "execution_count": 50,
     "metadata": {},
     "output_type": "execute_result"
    }
   ],
   "source": [
    "lin_reg.score(x_test,y_test)#here we are testing our model on random data"
   ]
  },
  {
   "cell_type": "code",
   "execution_count": 51,
   "id": "c9222735",
   "metadata": {},
   "outputs": [
    {
     "data": {
      "text/plain": [
       "0.901183282226897"
      ]
     },
     "execution_count": 51,
     "metadata": {},
     "output_type": "execute_result"
    }
   ],
   "source": [
    "lin_reg.score(x_train,y_train) # here we are running our model on trained data"
   ]
  },
  {
   "cell_type": "code",
   "execution_count": 52,
   "id": "9c896811",
   "metadata": {},
   "outputs": [],
   "source": [
    "result = lin_reg.predict(X)"
   ]
  },
  {
   "cell_type": "code",
   "execution_count": 54,
   "id": "0b8d1b2a",
   "metadata": {},
   "outputs": [
    {
     "data": {
      "text/plain": [
       "[<matplotlib.lines.Line2D at 0x1d1645cbd60>]"
      ]
     },
     "execution_count": 54,
     "metadata": {},
     "output_type": "execute_result"
    },
    {
     "data": {
      "image/png": "[encoded data removed]",
      "text/plain": [
       "<Figure size 720x720 with 1 Axes>"
      ]
     },
     "metadata": {
      "needs_background": "light"
     },
     "output_type": "display_data"
    }
   ],
   "source": [
    "plt.figure(figsize = (10,10))\n",
    "plt.plot(Y, 'o')\n",
    "plt.plot(result)"
   ]
  },
  {
   "cell_type": "code",
   "execution_count": 55,
   "id": "4b4aba0f",
   "metadata": {},
   "outputs": [
    {
     "data": {
      "text/plain": [
       "Ridge()"
      ]
     },
     "execution_count": 55,
     "metadata": {},
     "output_type": "execute_result"
    }
   ],
   "source": [
    "from sklearn.linear_model import Ridge\n",
    "ridge_reg = Ridge()\n",
    "ridge_reg.fit(x_train,y_train)"
   ]
  },
  {
   "cell_type": "code",
   "execution_count": 56,
   "id": "72820fab",
   "metadata": {},
   "outputs": [
    {
     "data": {
      "text/plain": [
       "0.9083360744638524"
      ]
     },
     "execution_count": 56,
     "metadata": {},
     "output_type": "execute_result"
    }
   ],
   "source": [
    "ridge_reg.score(x_test,y_test)"
   ]
  },
  {
   "cell_type": "code",
   "execution_count": 57,
   "id": "ead5bfbf",
   "metadata": {},
   "outputs": [
    {
     "data": {
      "text/plain": [
       "Lasso()"
      ]
     },
     "execution_count": 57,
     "metadata": {},
     "output_type": "execute_result"
    }
   ],
   "source": [
    "from sklearn.linear_model import Lasso\n",
    "lasso_reg = Lasso()\n",
    "lasso_reg.fit(x_train,y_train)"
   ]
  },
  {
   "cell_type": "code",
   "execution_count": 58,
   "id": "afff54fd",
   "metadata": {},
   "outputs": [
    {
     "data": {
      "text/plain": [
       "0.9062519113530543"
      ]
     },
     "execution_count": 58,
     "metadata": {},
     "output_type": "execute_result"
    }
   ],
   "source": [
    "lasso_reg.score(x_test,y_test)"
   ]
  },
  {
   "cell_type": "code",
   "execution_count": null,
   "id": "07a7a682",
   "metadata": {},
   "outputs": [],
   "source": []
  }
 ],
 "metadata": {
  "kernelspec": {
   "display_name": "Python 3 (ipykernel)",
   "language": "python",
   "name": "python3"
  },
  "language_info": {
   "codemirror_mode": {
    "name": "ipython",
    "version": 3
   },
   "file_extension": ".py",
   "mimetype": "text/x-python",
   "name": "python",
   "nbconvert_exporter": "python",
   "pygments_lexer": "ipython3",
   "version": "3.9.6"
  }
 },
 "nbformat": 4,
 "nbformat_minor": 5
}
